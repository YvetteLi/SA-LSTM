{
 "cells": [
  {
   "cell_type": "markdown",
   "metadata": {},
   "source": [
    "# Emotion Detector\n",
    "\n",
    "**Trigger words warning**"
   ]
  },
  {
   "cell_type": "markdown",
   "metadata": {},
   "source": [
    "# Domain Background\n",
    "In Canada, one out of three people will suffer from mental health issue throughout their lives. The fatablities resulted from suicide equals the total number of people died from homocides and car accidents. Even for those who make the first steps to seek treatment there is a long wait-list before seeing a specialist after being referred by a family doctor[1](https://cmha.ca/fast-facts-about-mental-illness). Before medication or psychologist are necessary for some people's mental state, they must have walked through a dark tunnel alone, wanting to have someone to talk to. I, myself, studies at a university that has high expectation from their students. Many times when I wish to talk to my friends, I find them struggling under the same pressure as I do and don't want to add burden to them. I wish there was a chatbot that serves as a 24/7 companion and can give me some supportive words whenever I need them the most.\n",
    "\n",
    "\n",
    "The first step to achieve my goal is to build an **emotion classifier with intensity prediction** that can clearly classify the sentiment and predict the emotion intensity in a sentence, and this will be the aim of this project."
   ]
  },
  {
   "cell_type": "markdown",
   "metadata": {},
   "source": [
    "# Problem Statement"
   ]
  },
  {
   "cell_type": "markdown",
   "metadata": {},
   "source": [
    "This project aims to build an emotion detector on both the category of the emotion and the intensity of the emotion. The category prediction will be a classification problem, and the intensity prediction will be a regression problem."
   ]
  },
  {
   "cell_type": "markdown",
   "metadata": {},
   "source": [
    "# Data Set and Inputs\n",
    "The main data source is the [Emotion-classification (EL-reg-EN) dataset](https://competitions.codalab.org/competitions/17751#learn_the_details-datasets) from coda lab. \n",
    "The training, development and test set are provided at the same source.\n",
    "\n",
    "\n",
    "## For Emotion Detection\n",
    "The input of this model is tweet text, each tweet text is labeled with one of joy, sadness, anger, fear. After training the model, the output of the model will show which category this model \"thinks\" it belongs to. I will probably also use an embedding to improve the performance. The GloVe embedding for [twitter data](https://nlp.stanford.edu/projects/glove/), will probably be used as it has some slang words and abbreviations that people often use in twitter.\n"
   ]
  },
  {
   "cell_type": "code",
   "execution_count": 72,
   "metadata": {},
   "outputs": [],
   "source": [
    "import pandas as pd\n",
    "df_ed = pd.concat([pd.read_csv(\"EI-reg-En-train/EI-reg-En-anger-train.txt\", sep='\\t'),\n",
    "                   pd.read_csv(\"EI-reg-En-train/EI-reg-En-fear-train.txt\", sep='\\t'),\n",
    "                   pd.read_csv(\"EI-reg-En-train/EI-reg-En-sadness-train.txt\", sep='\\t'),\n",
    "                   pd.read_csv(\"EI-reg-En-train/EI-reg-En-joy-train.txt\", sep='\\t')])"
   ]
  },
  {
   "cell_type": "code",
   "execution_count": 73,
   "metadata": {
    "scrolled": false
   },
   "outputs": [
    {
     "data": {
      "text/plain": [
       "194"
      ]
     },
     "execution_count": 73,
     "metadata": {},
     "output_type": "execute_result"
    }
   ],
   "source": [
    "len(df_ed[df_ed.duplicated(\"Tweet\")])"
   ]
  },
  {
   "cell_type": "code",
   "execution_count": 74,
   "metadata": {},
   "outputs": [
    {
     "data": {
      "text/html": [
       "<div>\n",
       "<style scoped>\n",
       "    .dataframe tbody tr th:only-of-type {\n",
       "        vertical-align: middle;\n",
       "    }\n",
       "\n",
       "    .dataframe tbody tr th {\n",
       "        vertical-align: top;\n",
       "    }\n",
       "\n",
       "    .dataframe thead th {\n",
       "        text-align: right;\n",
       "    }\n",
       "</style>\n",
       "<table border=\"1\" class=\"dataframe\">\n",
       "  <thead>\n",
       "    <tr style=\"text-align: right;\">\n",
       "      <th></th>\n",
       "      <th>Tweet</th>\n",
       "      <th>Affect Dimension</th>\n",
       "    </tr>\n",
       "  </thead>\n",
       "  <tbody>\n",
       "    <tr>\n",
       "      <th>0</th>\n",
       "      <td>@xandraaa5 @amayaallyn6 shut up hashtags are c...</td>\n",
       "      <td>anger</td>\n",
       "    </tr>\n",
       "    <tr>\n",
       "      <th>1</th>\n",
       "      <td>it makes me so fucking irate jesus. nobody is ...</td>\n",
       "      <td>anger</td>\n",
       "    </tr>\n",
       "    <tr>\n",
       "      <th>2</th>\n",
       "      <td>Lol Adam the Bull with his fake outrage...</td>\n",
       "      <td>anger</td>\n",
       "    </tr>\n",
       "    <tr>\n",
       "      <th>3</th>\n",
       "      <td>@THATSSHAWTYLO passed away early this morning ...</td>\n",
       "      <td>anger</td>\n",
       "    </tr>\n",
       "    <tr>\n",
       "      <th>4</th>\n",
       "      <td>@Kristiann1125 lol wow i was gonna say really?...</td>\n",
       "      <td>anger</td>\n",
       "    </tr>\n",
       "  </tbody>\n",
       "</table>\n",
       "</div>"
      ],
      "text/plain": [
       "                                               Tweet Affect Dimension\n",
       "0  @xandraaa5 @amayaallyn6 shut up hashtags are c...            anger\n",
       "1  it makes me so fucking irate jesus. nobody is ...            anger\n",
       "2         Lol Adam the Bull with his fake outrage...            anger\n",
       "3  @THATSSHAWTYLO passed away early this morning ...            anger\n",
       "4  @Kristiann1125 lol wow i was gonna say really?...            anger"
      ]
     },
     "execution_count": 74,
     "metadata": {},
     "output_type": "execute_result"
    }
   ],
   "source": [
    "filtered_out = df_ed[df_ed.duplicated(\"Tweet\")].Tweet\n",
    "df_ed = df_ed[~df_ed.Tweet.isin(filtered_out)]\n",
    "df_ed = df[[\"Tweet\", \"Affect Dimension\"]]\n",
    "df_ed.head()"
   ]
  },
  {
   "cell_type": "markdown",
   "metadata": {},
   "source": [
    "The data set has duplicated values, which means some record is assigned with more than 1 emotions. I will filter them out for the completeness of the dataset"
   ]
  },
  {
   "cell_type": "code",
   "execution_count": 75,
   "metadata": {
    "scrolled": false
   },
   "outputs": [
    {
     "data": {
      "text/html": [
       "<div>\n",
       "<style scoped>\n",
       "    .dataframe tbody tr th:only-of-type {\n",
       "        vertical-align: middle;\n",
       "    }\n",
       "\n",
       "    .dataframe tbody tr th {\n",
       "        vertical-align: top;\n",
       "    }\n",
       "\n",
       "    .dataframe thead th {\n",
       "        text-align: right;\n",
       "    }\n",
       "</style>\n",
       "<table border=\"1\" class=\"dataframe\">\n",
       "  <thead>\n",
       "    <tr style=\"text-align: right;\">\n",
       "      <th></th>\n",
       "      <th>Tweet</th>\n",
       "    </tr>\n",
       "    <tr>\n",
       "      <th>Affect Dimension</th>\n",
       "      <th></th>\n",
       "    </tr>\n",
       "  </thead>\n",
       "  <tbody>\n",
       "    <tr>\n",
       "      <th>anger</th>\n",
       "      <td>1701</td>\n",
       "    </tr>\n",
       "    <tr>\n",
       "      <th>fear</th>\n",
       "      <td>2252</td>\n",
       "    </tr>\n",
       "    <tr>\n",
       "      <th>joy</th>\n",
       "      <td>1616</td>\n",
       "    </tr>\n",
       "    <tr>\n",
       "      <th>sadness</th>\n",
       "      <td>1533</td>\n",
       "    </tr>\n",
       "  </tbody>\n",
       "</table>\n",
       "</div>"
      ],
      "text/plain": [
       "                  Tweet\n",
       "Affect Dimension       \n",
       "anger              1701\n",
       "fear               2252\n",
       "joy                1616\n",
       "sadness            1533"
      ]
     },
     "execution_count": 75,
     "metadata": {},
     "output_type": "execute_result"
    }
   ],
   "source": [
    "df_ed.groupby(\"Affect Dimension\").count()"
   ]
  },
  {
   "cell_type": "markdown",
   "metadata": {},
   "source": [
    "The dataset has roughly equal number of anger, fear and sadness, which will be helpful for our model"
   ]
  },
  {
   "cell_type": "code",
   "execution_count": 77,
   "metadata": {},
   "outputs": [],
   "source": [
    "df_ed_dev = pd.concat([pd.read_csv(\"2018-EI-reg-En-dev/2018-EI-reg-En-anger-dev.txt\", sep='\\t'),\n",
    "                       pd.read_csv(\"2018-EI-reg-En-dev/2018-EI-reg-En-joy-dev.txt\", sep='\\t'),\n",
    "                       pd.read_csv(\"2018-EI-reg-En-dev/2018-EI-reg-En-sadness-dev.txt\", sep='\\t'),\n",
    "                       pd.read_csv(\"2018-EI-reg-En-dev/2018-EI-reg-En-fear-dev.txt\", sep='\\t')]) "
   ]
  },
  {
   "cell_type": "code",
   "execution_count": 79,
   "metadata": {},
   "outputs": [],
   "source": [
    "df_ed_test = pd.concat([pd.read_csv(\"2018-EI-reg-En-test/2018-EI-reg-En-anger-test.txt\", sep='\\t'),\n",
    "                        pd.read_csv(\"2018-EI-reg-En-test/2018-EI-reg-En-joy-test.txt\", sep='\\t'),\n",
    "                        pd.read_csv(\"2018-EI-reg-En-test/2018-EI-reg-En-sadness-test.txt\", sep='\\t'),\n",
    "                        pd.read_csv(\"2018-EI-reg-En-test/2018-EI-reg-En-fear-test.txt\", sep='\\t')]) "
   ]
  },
  {
   "cell_type": "code",
   "execution_count": 83,
   "metadata": {},
   "outputs": [
    {
     "data": {
      "text/html": [
       "<div>\n",
       "<style scoped>\n",
       "    .dataframe tbody tr th:only-of-type {\n",
       "        vertical-align: middle;\n",
       "    }\n",
       "\n",
       "    .dataframe tbody tr th {\n",
       "        vertical-align: top;\n",
       "    }\n",
       "\n",
       "    .dataframe thead th {\n",
       "        text-align: right;\n",
       "    }\n",
       "</style>\n",
       "<table border=\"1\" class=\"dataframe\">\n",
       "  <thead>\n",
       "    <tr style=\"text-align: right;\">\n",
       "      <th></th>\n",
       "      <th>Tweet</th>\n",
       "    </tr>\n",
       "    <tr>\n",
       "      <th>Affect Dimension</th>\n",
       "      <th></th>\n",
       "    </tr>\n",
       "  </thead>\n",
       "  <tbody>\n",
       "    <tr>\n",
       "      <th>anger</th>\n",
       "      <td>388</td>\n",
       "    </tr>\n",
       "    <tr>\n",
       "      <th>fear</th>\n",
       "      <td>389</td>\n",
       "    </tr>\n",
       "    <tr>\n",
       "      <th>joy</th>\n",
       "      <td>290</td>\n",
       "    </tr>\n",
       "    <tr>\n",
       "      <th>sadness</th>\n",
       "      <td>397</td>\n",
       "    </tr>\n",
       "  </tbody>\n",
       "</table>\n",
       "</div>"
      ],
      "text/plain": [
       "                  Tweet\n",
       "Affect Dimension       \n",
       "anger               388\n",
       "fear                389\n",
       "joy                 290\n",
       "sadness             397"
      ]
     },
     "execution_count": 83,
     "metadata": {},
     "output_type": "execute_result"
    }
   ],
   "source": [
    "df_ed_dev.groupby(\"Affect Dimension\")[[\"Tweet\"]].count()"
   ]
  },
  {
   "cell_type": "code",
   "execution_count": 84,
   "metadata": {},
   "outputs": [
    {
     "data": {
      "text/html": [
       "<div>\n",
       "<style scoped>\n",
       "    .dataframe tbody tr th:only-of-type {\n",
       "        vertical-align: middle;\n",
       "    }\n",
       "\n",
       "    .dataframe tbody tr th {\n",
       "        vertical-align: top;\n",
       "    }\n",
       "\n",
       "    .dataframe thead th {\n",
       "        text-align: right;\n",
       "    }\n",
       "</style>\n",
       "<table border=\"1\" class=\"dataframe\">\n",
       "  <thead>\n",
       "    <tr style=\"text-align: right;\">\n",
       "      <th></th>\n",
       "      <th>Tweet</th>\n",
       "    </tr>\n",
       "    <tr>\n",
       "      <th>Affect Dimension</th>\n",
       "      <th></th>\n",
       "    </tr>\n",
       "  </thead>\n",
       "  <tbody>\n",
       "    <tr>\n",
       "      <th>anger</th>\n",
       "      <td>17939</td>\n",
       "    </tr>\n",
       "    <tr>\n",
       "      <th>fear</th>\n",
       "      <td>17923</td>\n",
       "    </tr>\n",
       "    <tr>\n",
       "      <th>joy</th>\n",
       "      <td>18042</td>\n",
       "    </tr>\n",
       "    <tr>\n",
       "      <th>sadness</th>\n",
       "      <td>17912</td>\n",
       "    </tr>\n",
       "  </tbody>\n",
       "</table>\n",
       "</div>"
      ],
      "text/plain": [
       "                  Tweet\n",
       "Affect Dimension       \n",
       "anger             17939\n",
       "fear              17923\n",
       "joy               18042\n",
       "sadness           17912"
      ]
     },
     "execution_count": 84,
     "metadata": {},
     "output_type": "execute_result"
    }
   ],
   "source": [
    "df_ed_test.groupby(\"Affect Dimension\")[[\"Tweet\"]].count()"
   ]
  },
  {
   "cell_type": "markdown",
   "metadata": {},
   "source": [
    "## For Emotion Intensity\n",
    "The data I am using for this part of the project is the same dataset as above, but this model will split the labeled dataset into four different dataset with the same emotion labels and perform a regression task to give the intensity of each tweet text.\n"
   ]
  },
  {
   "cell_type": "code",
   "execution_count": 16,
   "metadata": {},
   "outputs": [
    {
     "data": {
      "text/html": [
       "<div>\n",
       "<style scoped>\n",
       "    .dataframe tbody tr th:only-of-type {\n",
       "        vertical-align: middle;\n",
       "    }\n",
       "\n",
       "    .dataframe tbody tr th {\n",
       "        vertical-align: top;\n",
       "    }\n",
       "\n",
       "    .dataframe thead th {\n",
       "        text-align: right;\n",
       "    }\n",
       "</style>\n",
       "<table border=\"1\" class=\"dataframe\">\n",
       "  <thead>\n",
       "    <tr style=\"text-align: right;\">\n",
       "      <th></th>\n",
       "      <th>Tweet</th>\n",
       "      <th>Intensity Score</th>\n",
       "    </tr>\n",
       "  </thead>\n",
       "  <tbody>\n",
       "    <tr>\n",
       "      <th>0</th>\n",
       "      <td>@xandraaa5 @amayaallyn6 shut up hashtags are c...</td>\n",
       "      <td>0.562</td>\n",
       "    </tr>\n",
       "    <tr>\n",
       "      <th>1</th>\n",
       "      <td>it makes me so fucking irate jesus. nobody is ...</td>\n",
       "      <td>0.750</td>\n",
       "    </tr>\n",
       "    <tr>\n",
       "      <th>2</th>\n",
       "      <td>Lol Adam the Bull with his fake outrage...</td>\n",
       "      <td>0.417</td>\n",
       "    </tr>\n",
       "    <tr>\n",
       "      <th>3</th>\n",
       "      <td>@THATSSHAWTYLO passed away early this morning ...</td>\n",
       "      <td>0.354</td>\n",
       "    </tr>\n",
       "    <tr>\n",
       "      <th>4</th>\n",
       "      <td>@Kristiann1125 lol wow i was gonna say really?...</td>\n",
       "      <td>0.438</td>\n",
       "    </tr>\n",
       "  </tbody>\n",
       "</table>\n",
       "</div>"
      ],
      "text/plain": [
       "                                               Tweet  Intensity Score\n",
       "0  @xandraaa5 @amayaallyn6 shut up hashtags are c...            0.562\n",
       "1  it makes me so fucking irate jesus. nobody is ...            0.750\n",
       "2         Lol Adam the Bull with his fake outrage...            0.417\n",
       "3  @THATSSHAWTYLO passed away early this morning ...            0.354\n",
       "4  @Kristiann1125 lol wow i was gonna say really?...            0.438"
      ]
     },
     "execution_count": 16,
     "metadata": {},
     "output_type": "execute_result"
    }
   ],
   "source": [
    "## Data to train for the emotion intensity prediction model:\n",
    "\n",
    "## df_anger, df_joy, df_sadness, df_fear with the tweet and intensity score columns\n",
    "df_anger[[\"Tweet\", \"Intensity Score\"]].head()"
   ]
  },
  {
   "cell_type": "code",
   "execution_count": 23,
   "metadata": {
    "scrolled": true
   },
   "outputs": [
    {
     "data": {
      "text/plain": [
       "<matplotlib.axes._subplots.AxesSubplot at 0x10864cfd0>"
      ]
     },
     "execution_count": 23,
     "metadata": {},
     "output_type": "execute_result"
    },
    {
     "data": {
      "image/png": "[encoded data removed]",
      "text/plain": [
       "<matplotlib.figure.Figure at 0x107d82cf8>"
      ]
     },
     "metadata": {},
     "output_type": "display_data"
    }
   ],
   "source": [
    "df_anger[\"Intensity Score\"].hist()"
   ]
  },
  {
   "cell_type": "code",
   "execution_count": 24,
   "metadata": {
    "scrolled": true
   },
   "outputs": [
    {
     "data": {
      "text/plain": [
       "<matplotlib.axes._subplots.AxesSubplot at 0x1086ae8d0>"
      ]
     },
     "execution_count": 24,
     "metadata": {},
     "output_type": "execute_result"
    },
    {
     "data": {
      "image/png": "[encoded data removed]",
      "text/plain": [
       "<matplotlib.figure.Figure at 0x1086f76d8>"
      ]
     },
     "metadata": {},
     "output_type": "display_data"
    }
   ],
   "source": [
    "df_sadness[\"Intensity Score\"].hist()"
   ]
  },
  {
   "cell_type": "code",
   "execution_count": 25,
   "metadata": {},
   "outputs": [
    {
     "data": {
      "text/plain": [
       "<matplotlib.axes._subplots.AxesSubplot at 0x108b5ea20>"
      ]
     },
     "execution_count": 25,
     "metadata": {},
     "output_type": "execute_result"
    },
    {
     "data": {
      "image/png": "[encoded data removed]",
      "text/plain": [
       "<matplotlib.figure.Figure at 0x1086954e0>"
      ]
     },
     "metadata": {},
     "output_type": "display_data"
    }
   ],
   "source": [
    "df_joy[\"Intensity Score\"].hist()"
   ]
  },
  {
   "cell_type": "code",
   "execution_count": 26,
   "metadata": {
    "scrolled": true
   },
   "outputs": [
    {
     "data": {
      "text/plain": [
       "<matplotlib.axes._subplots.AxesSubplot at 0x111aecfd0>"
      ]
     },
     "execution_count": 26,
     "metadata": {},
     "output_type": "execute_result"
    },
    {
     "data": {
      "image/png": "[encoded data removed]",
      "text/plain": [
       "<matplotlib.figure.Figure at 0x108bb1518>"
      ]
     },
     "metadata": {},
     "output_type": "display_data"
    }
   ],
   "source": [
    "df_fear[\"Intensity Score\"].hist()"
   ]
  },
  {
   "cell_type": "markdown",
   "metadata": {},
   "source": [
    "The distribution of the intensity for each dataset is roughly normal, which will also be helpful for our model."
   ]
  },
  {
   "cell_type": "markdown",
   "metadata": {},
   "source": [
    "# Solution Statement\n",
    "\n",
    "The solution of this project is to build a model that gives text message with a label for emotion and the intensity of that emotion."
   ]
  },
  {
   "cell_type": "markdown",
   "metadata": {},
   "source": [
    "# Benchmark Model\n",
    "The benchmark model is Logistic Regression model trained on words represented by [bag of words](https://en.wikipedia.org/wiki/Bag-of-words_model) and [TF/IDF](https://en.wikipedia.org/wiki/Tf%E2%80%93idf). Bag of words is a simple way to encode words by the words' frequency. TF/IDF is also a word-frequency based model, but the word frequency is offset by the length of the sentence. The TF/IDF is expected to be a slight better representation of the words than Bag of Words model. However, they are expected to be less predictable than RNN model, as they are both based on the assumption that words are independent of each other. In reality, however, we know that words are dependent of each other.\n",
    "\n",
    "\n",
    "After I process the data using the BoW model and TF/IDF model, I will constuct the logistic regression model as a baseline. logistic regression is a popular linear model for multi-class regression. It is a statistical model that assumes linearity, normality and homoscedasticity. Again, those assumptions may or may not be satisfied in this case. \n",
    "\n",
    "\n",
    "The baseline model will be compared with the RNN model based on the evaluation metrics shown below."
   ]
  },
  {
   "cell_type": "markdown",
   "metadata": {},
   "source": [
    "# Evaluation Metrics\n",
    "The result of the model will be evaluated as following.\n",
    "\n",
    "for Classification\n",
    "1. Precision\n",
    "2. Recall\n",
    "3. F1 Score\n",
    "\n",
    "I will constructed a [multi-class confusion matrix](https://www.youtube.com/watch?v=FAr2GmWNbT0) which looks like\n",
    "\n",
    "\n",
    "|         | Anger | Sadness | Joy | ... |\n",
    "|---------|-------|---------|-----|-----|\n",
    "| Anger   | Tpa   | Eas     | Eja | ... |\n",
    "| Sadness | Eas   | Tps     | Ejs | ... |\n",
    "| Joy     | Eaj   | Esj     | Tpj | ... |\n",
    "| ...     | ...   | ...     | ... | ... |\n",
    "\n",
    "**Example Precision**\n",
    "\n",
    "The precision of Anger is Pa = Tpa/(Eas+Eja+...)\n",
    "\n",
    "**Example Recall**\n",
    "\n",
    "The recall of Anger is Ra = Tpa/(Tpa+Eas+Eja+...)\n",
    "\n",
    "**Example F1**\n",
    "\n",
    "The F1 score of Anger is 2\\*PaRa/(Pa+Ra)\n",
    "\n",
    "\n",
    "\n",
    "for Regression\n",
    "1. Pearson correlation coefficients\n",
    "2. Spearsman correlation coefficients"
   ]
  },
  {
   "cell_type": "markdown",
   "metadata": {},
   "source": [
    "# Project Design"
   ]
  },
  {
   "cell_type": "markdown",
   "metadata": {},
   "source": [
    "## Stage 1 - Data Cleaning\n",
    "The tweet data has some words that needs to be eliminated from the corpus, like mis-spelled words, abbreviations, hashtags and links. I need to first filter those out and then use stemming or lemmatization to merge words with similar meanings together. For instance, learned and learn will be considered as the same word.\n",
    "\n",
    "During this stage, the word will also be transformed into a word matrix. Each word will have a vector that represents the feature of this word. Similar words will be close together in the high dimensional space[2](https://machinelearningmastery.com/develop-word-embeddings-python-gensim/)."
   ]
  },
  {
   "cell_type": "markdown",
   "metadata": {},
   "source": [
    "## Stage 2 - Model Training"
   ]
  },
  {
   "cell_type": "markdown",
   "metadata": {},
   "source": [
    "### Model 1\n",
    "I will use LSTM model with attention as decribed in [this paper](https://arxiv.org/pdf/1512.08756.pdf). I will use the pre-trained word embedding here to compare the performance comparing to an embedding layer. Accordign to [this post](https://towardsdatascience.com/pre-trained-word-embeddings-or-embedding-layer-a-dilemma-8406959fd76c), the embedding layer will give a more promissing result than an embedding layer\n",
    "\n",
    "\n",
    "\n",
    "### Model 2\n",
    "The model for the regression task will also be trained on Bi-directional LSTM, but this time, the feature extraction after the Bi-LSTM model will will be based on CNN. Bi-directional LSTM will reconstruct the word matrix and CNN will be applied on the matrix to extract important information. This method is described in [this paper](https://arxiv.org/pdf/1512.08756.pdf). This model will be trained based on each segment of emotion individually.\n",
    "\n"
   ]
  },
  {
   "cell_type": "markdown",
   "metadata": {},
   "source": [
    "## Stage 3 - Evaluation and Conclusion\n",
    "Since model 2 only has the ability to identify the emotion, the result of model 1 will be fed into model 2. In other words, the data will be spliced into four different categories as predicted by model 1, and model 2 will give prediction to each segement of data. The models results will be evaluated according to the evaluation metrics described above. Model 1 will be evaluated by the classification evaluation metrics and model 2 will be evaluated by the regression evaluation metrics. The combined model's precision, recall and F1 will be calculated based model 1, and the false predictions will be eliminated when calculating the pearson and Spearsman coefficient correlations."
   ]
  },
  {
   "cell_type": "markdown",
   "metadata": {},
   "source": [
    "# Reference"
   ]
  },
  {
   "cell_type": "markdown",
   "metadata": {},
   "source": [
    "1. [Fast Facts about Mental Illness](https://cmha.ca/fast-facts-about-mental-illness)\n",
    "2. [How to Develop Word Embeddings in Python with Gensim](https://machinelearningmastery.com/develop-word-embeddings-python-gensim/)"
   ]
  },
  {
   "cell_type": "code",
   "execution_count": null,
   "metadata": {},
   "outputs": [],
   "source": []
  }
 ],
 "metadata": {
  "kernelspec": {
   "display_name": "Python 3",
   "language": "python",
   "name": "python3"
  },
  "language_info": {
   "codemirror_mode": {
    "name": "ipython",
    "version": 3
   },
   "file_extension": ".py",
   "mimetype": "text/x-python",
   "name": "python",
   "nbconvert_exporter": "python",
   "pygments_lexer": "ipython3",
   "version": "3.7.4"
  }
 },
 "nbformat": 4,
 "nbformat_minor": 2
}
