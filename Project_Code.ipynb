{
  "nbformat": 4,
  "nbformat_minor": 0,
  "metadata": {
    "kernelspec": {
      "display_name": "Python 3",
      "language": "python",
      "name": "python3"
    },
    "language_info": {
      "codemirror_mode": {
        "name": "ipython",
        "version": 3
      },
      "file_extension": ".py",
      "mimetype": "text/x-python",
      "name": "python",
      "nbconvert_exporter": "python",
      "pygments_lexer": "ipython3",
      "version": "3.7.4"
    },
    "colab": {
      "name": "Project Code.ipynb",
      "provenance": [],
      "collapsed_sections": []
    }
  },
  "cells": [
    {
      "cell_type": "code",
      "metadata": {
        "scrolled": true,
        "id": "HvwNPlwbd-8e",
        "colab_type": "code",
        "colab": {}
      },
      "source": [
        "# import sys\n",
        "# print (sys.version)\n",
        "# conda activate py36"
      ],
      "execution_count": 0,
      "outputs": []
    },
    {
      "cell_type": "code",
      "metadata": {
        "id": "Wntx_1IfgYQu",
        "colab_type": "code",
        "outputId": "22b87b6c-aba7-4333-a871-6b861834a67a",
        "colab": {
          "base_uri": "https://localhost:8080/",
          "height": 122
        }
      },
      "source": [
        "from google.colab import drive\n",
        "drive.mount('/content/drive', force_remount=False)"
      ],
      "execution_count": 1,
      "outputs": [
        {
          "output_type": "stream",
          "text": [
            "Go to this URL in a browser: https://accounts.google.com/o/oauth2/auth?client_id=947318989803-6bn6qk8qdgf4n4g3pfee6491hc0brc4i.apps.googleusercontent.com&redirect_uri=urn%3aietf%3awg%3aoauth%3a2.0%3aoob&response_type=code&scope=email%20https%3a%2f%2fwww.googleapis.com%2fauth%2fdocs.test%20https%3a%2f%2fwww.googleapis.com%2fauth%2fdrive%20https%3a%2f%2fwww.googleapis.com%2fauth%2fdrive.photos.readonly%20https%3a%2f%2fwww.googleapis.com%2fauth%2fpeopleapi.readonly\n",
            "\n",
            "Enter your authorization code:\n",
            "··········\n",
            "Mounted at /content/drive\n"
          ],
          "name": "stdout"
        }
      ]
    },
    {
      "cell_type": "code",
      "metadata": {
        "id": "mfb7VpCmd-8l",
        "colab_type": "code",
        "colab": {}
      },
      "source": [
        "# import pandas as pd\n",
        "# from sklearn.model_selection import train_test_split"
      ],
      "execution_count": 0,
      "outputs": []
    },
    {
      "cell_type": "code",
      "metadata": {
        "id": "_ZjFnxsFd-8p",
        "colab_type": "code",
        "colab": {}
      },
      "source": [
        "# df = pd.read_csv(\"./data/data/train.txt\", sep=\"\\t\")\n",
        "# train, test = train_test_split(df, test_size=0.2, random_state=42)"
      ],
      "execution_count": 0,
      "outputs": []
    },
    {
      "cell_type": "code",
      "metadata": {
        "id": "g29ClVL-d-8s",
        "colab_type": "code",
        "colab": {}
      },
      "source": [
        "# train.to_csv(\"./data/data/splitted_train.txt\", index=False, sep=\"\\t\")\n",
        "# test.to_csv(\"./data/data/splitted_test.txt\", index=False, sep=\"\\t\")"
      ],
      "execution_count": 0,
      "outputs": []
    },
    {
      "cell_type": "markdown",
      "metadata": {
        "id": "KSqQJ1Zzd-8v",
        "colab_type": "text"
      },
      "source": [
        "# Data Preparation"
      ]
    },
    {
      "cell_type": "code",
      "metadata": {
        "id": "DyMnzx18bQQI",
        "colab_type": "code",
        "colab": {
          "base_uri": "https://localhost:8080/",
          "height": 207
        },
        "outputId": "1c1631db-1a9d-41aa-aab2-af889cc928a3"
      },
      "source": [
        "!pip install emoji"
      ],
      "execution_count": 4,
      "outputs": [
        {
          "output_type": "stream",
          "text": [
            "Collecting emoji\n",
            "\u001b[?25l  Downloading https://files.pythonhosted.org/packages/40/8d/521be7f0091fe0f2ae690cc044faf43e3445e0ff33c574eae752dd7e39fa/emoji-0.5.4.tar.gz (43kB)\n",
            "\u001b[K     |████████████████████████████████| 51kB 1.6MB/s \n",
            "\u001b[?25hBuilding wheels for collected packages: emoji\n",
            "  Building wheel for emoji (setup.py) ... \u001b[?25l\u001b[?25hdone\n",
            "  Created wheel for emoji: filename=emoji-0.5.4-cp36-none-any.whl size=42176 sha256=b2c4887fffa4fb8e861b6d75177b09360b8add778b810e25fabe1a1fd2c445f8\n",
            "  Stored in directory: /root/.cache/pip/wheels/2a/a9/0a/4f8e8cce8074232aba240caca3fade315bb49fac68808d1a9c\n",
            "Successfully built emoji\n",
            "Installing collected packages: emoji\n",
            "Successfully installed emoji-0.5.4\n"
          ],
          "name": "stdout"
        }
      ]
    },
    {
      "cell_type": "code",
      "metadata": {
        "id": "-bZ40WCLxA9Q",
        "colab_type": "code",
        "colab": {}
      },
      "source": [
        "import emoji"
      ],
      "execution_count": 0,
      "outputs": []
    },
    {
      "cell_type": "code",
      "metadata": {
        "scrolled": true,
        "id": "8D0W7fNAd-8x",
        "colab_type": "code",
        "outputId": "7e0e50e8-6d55-40aa-8387-27570035614e",
        "colab": {
          "base_uri": "https://localhost:8080/",
          "height": 97
        }
      },
      "source": [
        "import io\n",
        "import sys\n",
        "import importlib\n",
        "import re\n",
        "from keras.utils import to_categorical\n",
        "import numpy as np\n",
        "from keras.preprocessing.text import Tokenizer\n",
        "from keras.preprocessing.sequence import pad_sequences"
      ],
      "execution_count": 6,
      "outputs": [
        {
          "output_type": "stream",
          "text": [
            "Using TensorFlow backend.\n"
          ],
          "name": "stderr"
        },
        {
          "output_type": "display_data",
          "data": {
            "text/html": [
              "<p style=\"color: red;\">\n",
              "The default version of TensorFlow in Colab will soon switch to TensorFlow 2.x.<br>\n",
              "We recommend you <a href=\"https://www.tensorflow.org/guide/migrate\" target=\"_blank\">upgrade</a> now \n",
              "or ensure your notebook will continue to use TensorFlow 1.x via the <code>%tensorflow_version 1.x</code> magic:\n",
              "<a href=\"https://colab.research.google.com/notebooks/tensorflow_version.ipynb\" target=\"_blank\">more info</a>.</p>\n"
            ],
            "text/plain": [
              "<IPython.core.display.HTML object>"
            ]
          },
          "metadata": {
            "tags": []
          }
        }
      ]
    },
    {
      "cell_type": "code",
      "metadata": {
        "id": "CtY3c_JQbAx4",
        "colab_type": "code",
        "outputId": "0c2cbdd5-4852-49cf-bfc4-699f68695ea3",
        "colab": {
          "base_uri": "https://localhost:8080/",
          "height": 34
        }
      },
      "source": [
        "sys.path.append('/content/drive/My Drive/EmoContext')\n",
        "import regex_nlp"
      ],
      "execution_count": 0,
      "outputs": [
        {
          "output_type": "stream",
          "text": [
            "Loading utils module\n"
          ],
          "name": "stdout"
        }
      ]
    },
    {
      "cell_type": "code",
      "metadata": {
        "id": "5xJ3hYr7d-82",
        "colab_type": "code",
        "colab": {}
      },
      "source": [
        "train_path = \"/content/drive/My Drive/EmoContext/splitted_train.txt\"\n",
        "test_path  = \"/content/drive/My Drive/EmoContext/splitted_test.txt\"\n",
        "dev_path   = \"/content/drive/My Drive/EmoContext/dev.txt\"\n",
        "\n",
        "lab2emo = {0:\"others\", 1:\"happy\", 2: \"sad\", 3:\"angry\"}\n",
        "emo2lab = {\"others\":0, \"happy\":1, \"sad\":2, \"angry\":3}\n",
        "\n",
        "NUM_CLASSES = 4                 # Number of classes - Happy, Sad, Angry, Others\n",
        "MAX_NB_WORDS = 15000            # To set the upper limit on the number of tokens extracted using keras.preprocessing.text.Tokenizer \n",
        "MAX_SEQUENCE_LENGTH = 35        # All sentences having lesser number of words than this will be padded\n",
        "EMBEDDING_DIM = 300"
      ],
      "execution_count": 0,
      "outputs": []
    },
    {
      "cell_type": "markdown",
      "metadata": {
        "id": "zbwUh7zSVX5u",
        "colab_type": "text"
      },
      "source": [
        "Load data from pickle files"
      ]
    },
    {
      "cell_type": "code",
      "metadata": {
        "id": "bu1gvdqLSgDO",
        "colab_type": "code",
        "colab": {}
      },
      "source": [
        "import pickle\n",
        "\n",
        "test = pickle.load( open( \"/content/drive/My Drive/EmoContext/test.pickle\", \"rb\" ) )\n",
        "train = pickle.load( open('/content/drive/My Drive/EmoContext/train.pickle', 'rb') )\n",
        "dev = pickle.load(open('/content/drive/My Drive/EmoContext/dev.pickle', 'rb') )\n",
        "\n",
        "testTexts = test[\"testTexts\"]\n",
        "rawtestTexts = test[\"rawtestTexts\"]\n",
        "testLabels = test[\"testLabels\"]\n",
        "\n",
        "trainTexts = train[\"trainTexts\"]\n",
        "rawtrainTexts = train[\"rawtrainTexts\"]\n",
        "labels = train['labels']\n",
        "\n",
        "evalTexts = dev['evalTexts']\n",
        "rawevalTexts = dev['rawevalTexts']\n",
        "evalLabels = dev['evalLabels']\n",
        "# test = {'testTexts':testTexts, 'rawtestTexts': rawtestTexts, 'testLabels': testLabels}\n",
        "# train= {'trainTexts':trainTexts, 'rawtrainTexts': rawtrainTexts, 'labels': labels}\n",
        "# dev  = {'evalTexts': evalTexts, 'rawevalTexts': rawevalTexts, 'evalLabels': evalLabels}  "
      ],
      "execution_count": 0,
      "outputs": []
    },
    {
      "cell_type": "markdown",
      "metadata": {
        "id": "bx4cSpVpd-89",
        "colab_type": "text"
      },
      "source": [
        "## Data Cleaning"
      ]
    },
    {
      "cell_type": "code",
      "metadata": {
        "id": "ksTySsjVd-8-",
        "colab_type": "code",
        "colab": {}
      },
      "source": [
        "def preprocess(file_path, mode=\"train\"):\n",
        "    # importlib.reload(sys.modules['regex'])\n",
        "    ind = []\n",
        "    convs = []\n",
        "    raw = []\n",
        "    labs = []\n",
        "    \n",
        "    first_line = True\n",
        "    with open(file_path, encoding=\"utf8\") as f:\n",
        "        for l in f:\n",
        "            if first_line:\n",
        "                first_line = False \n",
        "                continue\n",
        "            \n",
        "            repeatedChars = ['.', '?', '!', ',']\n",
        "            for c in repeatedChars:\n",
        "                l_split = l.split(c)\n",
        "                while True:\n",
        "                    try:\n",
        "                        l_split.remove('')\n",
        "                    except:\n",
        "                        break\n",
        "                cSpace = ' ' + c + ' '    \n",
        "                l = cSpace.join(l_split)\n",
        "            \n",
        "            line = l.strip().split(\"\\t\")\n",
        "            raw_conv = ' '.join(line[1:-1])\n",
        "            \n",
        "            # print (line)\n",
        "            if mode == \"train\":\n",
        "                labs.append(emo2lab[line[-1]]) \n",
        "                \n",
        "            processed_conv = ' <eos>'.join(line[1:-1])\n",
        "            \n",
        "            # remove duplicated space \n",
        "            processed_conv = re.sub(r'\\ +', ' ', processed_conv)\n",
        "            \n",
        "            # remove not useful punctuation\n",
        "            processed_conv = re.sub(r'‑|-|\\^|:|;|#|\\)|\\(|\\*|=|\\\\|/', '', processed_conv)\n",
        "            \n",
        "            # replace abbreviations and mispelled words\n",
        "            processed_conv = regex_nlp.cleanText(processed_conv.lower(), remEmojis=1).lower()\n",
        "            \n",
        "            convs.append(processed_conv)\n",
        "            raw.append(raw_conv)\n",
        "            \n",
        "    if mode == \"train\":\n",
        "        return ind, convs, raw, labs\n",
        "    else:\n",
        "        return ind, convs, raw\n",
        "    "
      ],
      "execution_count": 0,
      "outputs": []
    },
    {
      "cell_type": "code",
      "metadata": {
        "scrolled": true,
        "id": "gcbyig5dd-9C",
        "colab_type": "code",
        "outputId": "d9440b5a-2448-44e1-ad7b-790704c36f65",
        "colab": {
          "base_uri": "https://localhost:8080/",
          "height": 68
        }
      },
      "source": [
        "print(\"Processing test data...\")\n",
        "testIndices, testTexts, rawtestTexts, testLabels = preprocess(test_path)\n",
        "testLabels = to_categorical(np.asarray(testLabels), NUM_CLASSES)\n",
        "print(\"Processing training data...\")\n",
        "trainIndices, trainTexts, rawtrainTexts, labels = preprocess(train_path)\n",
        "labels = to_categorical(np.asarray(labels), NUM_CLASSES)\n",
        "print(\"Processing evaluation data...\")\n",
        "evalIndices, evalTexts, rawevalTexts, evalLabels = preprocess(dev_path)\n",
        "evalLabels = to_categorical(np.asarray(evalLabels), NUM_CLASSES)\n"
      ],
      "execution_count": 0,
      "outputs": [
        {
          "output_type": "stream",
          "text": [
            "Processing test data...\n",
            "Processing training data...\n",
            "Processing evaluation data...\n"
          ],
          "name": "stdout"
        }
      ]
    },
    {
      "cell_type": "code",
      "metadata": {
        "id": "C0cS6wuOrCXZ",
        "colab_type": "code",
        "colab": {}
      },
      "source": [
        "import pickle\n",
        "test = {'testTexts':testTexts, 'rawtestTexts': rawtestTexts, 'testLabels': testLabels}\n",
        "train= {'trainTexts':trainTexts, 'rawtrainTexts': rawtrainTexts, 'labels': labels}\n",
        "dev  = {'evalTexts': evalTexts, 'rawevalTexts': rawevalTexts, 'evalLabels': evalLabels}  \n",
        "\n",
        "\n",
        "with open(\"/content/drive/My Drive/EmoContext/test.pickle\", 'wb') as f:\n",
        "  pickle.dump(test, f)\n",
        "\n",
        "with open('/content/drive/My Drive/EmoContext/train.pickle', 'wb') as f:\n",
        "  pickle.dump(train, f)\n",
        "\n",
        "with open('/content/drive/My Drive/EmoContext/dev.pickle', 'wb') as f:\n",
        "  pickle.dump(dev, f)"
      ],
      "execution_count": 0,
      "outputs": []
    },
    {
      "cell_type": "markdown",
      "metadata": {
        "id": "lvOAusg4d-9J",
        "colab_type": "text"
      },
      "source": [
        "## Tokenize Data"
      ]
    },
    {
      "cell_type": "code",
      "metadata": {
        "id": "woXuybzFd-9K",
        "colab_type": "code",
        "outputId": "d9886752-54b5-4cea-fc92-5d0790bd6d35",
        "colab": {
          "base_uri": "https://localhost:8080/",
          "height": 51
        }
      },
      "source": [
        "print(\"Extracting tokens...\")\n",
        "tokenizer = Tokenizer(num_words=MAX_NB_WORDS, oov_token='<unk>')\n",
        "tokenizer.fit_on_texts(trainTexts + testTexts + evalTexts)\n",
        "train_sequences = tokenizer.texts_to_sequences(trainTexts)\n",
        "test_sequences = tokenizer.texts_to_sequences(testTexts)\n",
        "eval_sequences = tokenizer.texts_to_sequences(evalTexts)\n",
        "\n",
        "wordIndex = tokenizer.word_index\n",
        "print(\"Found %s unique tokens.\" % len(wordIndex))"
      ],
      "execution_count": 10,
      "outputs": [
        {
          "output_type": "stream",
          "text": [
            "Extracting tokens...\n",
            "Found 16398 unique tokens.\n"
          ],
          "name": "stdout"
        }
      ]
    },
    {
      "cell_type": "code",
      "metadata": {
        "id": "mnKh4wMqvVzf",
        "colab_type": "code",
        "outputId": "25a233fa-4044-47a1-ee49-33ce7c7ceb50",
        "colab": {
          "base_uri": "https://localhost:8080/",
          "height": 153
        }
      },
      "source": [
        "lens = [len(x) for x in train_sequences]\n",
        "print(\"Mean length for train data\", np.mean((np.array(lens))))\n",
        "print(\"Train-data Coverage (cutoff length):\", np.sum(np.array(lens) <= MAX_SEQUENCE_LENGTH) / len(train_sequences))\n",
        "print()\n",
        "lens = [len(x) for x in test_sequences]\n",
        "print(\"Mean length for dev data\", np.mean((np.array(lens))))\n",
        "print(\"Dev-data Coverage (cutoff length):\", np.sum(np.array(lens) <= MAX_SEQUENCE_LENGTH) / len(test_sequences))\n",
        "print()\n",
        "lens = [len(x) for x in eval_sequences]\n",
        "print(\"Mean length for test data\", np.mean((np.array(lens))))\n",
        "print(\"Test-data Coverage (cutoff length):\", np.sum(np.array(lens) <= MAX_SEQUENCE_LENGTH) / len(eval_sequences))"
      ],
      "execution_count": 0,
      "outputs": [
        {
          "output_type": "stream",
          "text": [
            "Mean length for train data 15.691312997347481\n",
            "Train-data Coverage (cutoff length): 0.9905918435013262\n",
            "\n",
            "Mean length for dev data 15.743534482758621\n",
            "Dev-data Coverage (cutoff length): 0.9893899204244032\n",
            "\n",
            "Mean length for test data 15.32994555353902\n",
            "Test-data Coverage (cutoff length): 0.9920145190562614\n"
          ],
          "name": "stdout"
        }
      ]
    },
    {
      "cell_type": "code",
      "metadata": {
        "id": "frIYBYaswfoO",
        "colab_type": "code",
        "colab": {}
      },
      "source": [
        "def split_into_three(texts, tknzr):\n",
        "    middle, left, right = [], [], []\n",
        "    for text in texts:\n",
        "        l, m, r = text.split(' <eos>')\n",
        "        middle.append(m)\n",
        "        left.append(l)\n",
        "        right.append(r)\n",
        "    tokenize = lambda x: tknzr.texts_to_sequences(x)\n",
        "    return (tokenize(left), tokenize(middle), tokenize(right))\n"
      ],
      "execution_count": 0,
      "outputs": []
    },
    {
      "cell_type": "code",
      "metadata": {
        "id": "3mf0Y2Q47EDP",
        "colab_type": "code",
        "outputId": "4b8a50d9-09b8-4a18-e2c1-4a4aedcd0d1c",
        "colab": {
          "base_uri": "https://localhost:8080/",
          "height": 697
        }
      },
      "source": [
        "for i in range(10):\n",
        "  print (u\"Original:{}\".format(rawevalTexts[i]))\n",
        "  print (u\"Processed:{}\".format(evalTexts[i]))\n",
        "  print (\"\\n\")"
      ],
      "execution_count": 12,
      "outputs": [
        {
          "output_type": "stream",
          "text": [
            "Original:Then dont ask me YOURE A GUY NOT AS IF YOU WOULD UNDERSTAND IM NOT A GUY FUCK OFF\n",
            "Processed:then do not ask me <eos>youre a guy not as if you would understand <eos>i am not a guy fuck off\n",
            "\n",
            "\n",
            "Original:Mixed things  such as ?  the things you do .  Have you seen minions ? \n",
            "Processed:mixed things such as ? <eos>the things you do . <eos>have you seen minions ? \n",
            "\n",
            "\n",
            "Original:Today I'm very happy and I'm happy for you ❤ I will be marry\n",
            "Processed:today iam very happy <eos>and iam happy for you ❤ <eos>i will be marry\n",
            "\n",
            "\n",
            "Original:Woah bring me some left it there oops Brb\n",
            "Processed:woah bring me some <eos>left it there oops <eos>be right back\n",
            "\n",
            "\n",
            "Original:it is thooooo I said soon master .  he is pressuring me\n",
            "Processed:it is though <eos>i said soon master . <eos>he is pressuring me\n",
            "\n",
            "\n",
            "Original:Wont u ask my age ?  hey at least I age well !  Can u tell me how can we get closer ? \n",
            "Processed:wont you ask my age ? <eos>hey at least i age well ! <eos>can you tell me how can we get closer ? \n",
            "\n",
            "\n",
            "Original:I said yes What if I told you I'm not ?  Go to hell\n",
            "Processed:i said yes <eos>what if i told you iam not ? <eos>go to hell\n",
            "\n",
            "\n",
            "Original:Where I ll check why tomorrow ?  No I want now\n",
            "Processed:where i ll check <eos>why tomorrow ? <eos>no i want now\n",
            "\n",
            "\n",
            "Original:Shall we meet you say- you're leaving soon . anywhere you wanna go before you head ?   ? \n",
            "Processed:shall we meet <eos>you say you are leaving soon . anywhere you wanna go before you head ? <eos> ? \n",
            "\n",
            "\n",
            "Original:Let's change the subject I just did it  . l .  You're broken\n",
            "Processed:let us change the subject <eos>i just did it . l . <eos>you are broken\n",
            "\n",
            "\n"
          ],
          "name": "stdout"
        }
      ]
    },
    {
      "cell_type": "code",
      "metadata": {
        "id": "14PHsDCLwAGY",
        "colab_type": "code",
        "colab": {}
      },
      "source": [
        "train_l, train_m, train_r = split_into_three(trainTexts, tokenizer)\n",
        "test_l, test_m, test_r = split_into_three(testTexts, tokenizer)\n",
        "eval_l, eval_m, eval_r = split_into_three(evalTexts, tokenizer)\n"
      ],
      "execution_count": 0,
      "outputs": []
    },
    {
      "cell_type": "code",
      "metadata": {
        "id": "TyCCE-pB8ab6",
        "colab_type": "code",
        "colab": {}
      },
      "source": [
        "train_all = train_sequences\n",
        "test_all = test_sequences\n",
        "eval_all = eval_sequences"
      ],
      "execution_count": 0,
      "outputs": []
    },
    {
      "cell_type": "markdown",
      "metadata": {
        "id": "ZqaeMWd4d-9N",
        "colab_type": "text"
      },
      "source": [
        "## Create Embeddings (March 10)\n",
        "\n",
        "- Create embeddings from GloVe and ELMo\n",
        "- Re-write the function as you see fit\n",
        "- pad the data to equal length"
      ]
    },
    {
      "cell_type": "code",
      "metadata": {
        "id": "EJ9CfyUtIBfC",
        "colab_type": "code",
        "colab": {}
      },
      "source": [
        "import gensim.models as gsm"
      ],
      "execution_count": 0,
      "outputs": []
    },
    {
      "cell_type": "code",
      "metadata": {
        "id": "apoJnvDid-9O",
        "colab_type": "code",
        "colab": {}
      },
      "source": [
        "def make_embedding(word_ind, EMBEDDING_DIM):\n",
        "    embedding_idx = {}\n",
        "    with open('/content/drive/My Drive/EmoContext/glove.6B.{}d.txt'.format(EMBEDDING_DIM), encoding=\"utf8\") as f:\n",
        "        for l in f:\n",
        "            info = l.strip().split()\n",
        "            embedding_idx[info[0]] = np.array(info[1:], dtype='float32')\n",
        "    \n",
        "    oov = []\n",
        "    oov_indices = []\n",
        "    count = 0\n",
        "    total = 0\n",
        "    embedding_matrix = np.zeros((len(word_ind) +1, EMBEDDING_DIM))\n",
        "    \n",
        "    print(\"Found {} words\".format(len(embedding_idx)))\n",
        "\n",
        "    for word in word_ind:\n",
        "        if word in embedding_idx:\n",
        "            ind = word_ind[word]\n",
        "            embedding_vec = embedding_idx[word]\n",
        "            embedding_matrix[ind] = embedding_vec\n",
        "            count += 1\n",
        "        else:\n",
        "            oov_indices.append(word_ind[word])\n",
        "            oov.append(word)\n",
        "        total += 1 \n",
        "    \n",
        "    print(\"Found embedding for\",str((100 * count) / total), \"% embeddings\")\n",
        "    return embedding_matrix, oov, oov_indices\n",
        "            \n",
        "def add_emoji_embedding(word_ind, orig_embedding):\n",
        "    e2v = gsm.KeyedVectors.load_word2vec_format('/content/drive/My Drive/EmoContext/emoji2vec.bin', binary=True)\n",
        "    count = 0\n",
        "    total = 0\n",
        "    for word in word_ind:\n",
        "        total += 1\n",
        "        try:\n",
        "            ind = word_ind[word]\n",
        "            embedding_vec = e2v.get_vector(word)\n",
        "            orig_embedding[ind] = embedding_vec\n",
        "            # print (word)\n",
        "            # print (embedding_vec)\n",
        "            count += 1 \n",
        "        except:\n",
        "            continue\n",
        "    print (count)\n",
        "    print (total)\n",
        "    print(\"Found embedding for\", str((100 * count) / total), \"% embeddings\")\n",
        "    return orig_embedding"
      ],
      "execution_count": 0,
      "outputs": []
    },
    {
      "cell_type": "code",
      "metadata": {
        "id": "_37849b9vRlW",
        "colab_type": "code",
        "outputId": "ff199661-0a1b-4e54-89f7-1141df603588",
        "colab": {
          "base_uri": "https://localhost:8080/",
          "height": 51
        }
      },
      "source": [
        "\n",
        "embedding_matrix, oov, oov_indices = make_embedding(wordIndex, EMBEDDING_DIM)"
      ],
      "execution_count": 0,
      "outputs": [
        {
          "output_type": "stream",
          "text": [
            "Found 400000 words\n",
            "Found embedding for 68.84376143432125 % embeddings\n"
          ],
          "name": "stdout"
        }
      ]
    },
    {
      "cell_type": "code",
      "metadata": {
        "id": "kyYEVztsGuwp",
        "colab_type": "code",
        "outputId": "b34c7039-9401-44d4-9a82-2b21a924fb0a",
        "colab": {
          "base_uri": "https://localhost:8080/",
          "height": 164
        }
      },
      "source": [
        "embedding_matrix = add_emoji_embedding(wordIndex, embedding_matrix)"
      ],
      "execution_count": 16,
      "outputs": [
        {
          "output_type": "error",
          "ename": "NameError",
          "evalue": "ignored",
          "traceback": [
            "\u001b[0;31m---------------------------------------------------------------------------\u001b[0m",
            "\u001b[0;31mNameError\u001b[0m                                 Traceback (most recent call last)",
            "\u001b[0;32m<ipython-input-16-fb9591ee72a7>\u001b[0m in \u001b[0;36m<module>\u001b[0;34m()\u001b[0m\n\u001b[0;32m----> 1\u001b[0;31m \u001b[0membedding_matrix\u001b[0m \u001b[0;34m=\u001b[0m \u001b[0madd_emoji_embedding\u001b[0m\u001b[0;34m(\u001b[0m\u001b[0mwordIndex\u001b[0m\u001b[0;34m,\u001b[0m \u001b[0membedding_matrix\u001b[0m\u001b[0;34m)\u001b[0m\u001b[0;34m\u001b[0m\u001b[0;34m\u001b[0m\u001b[0m\n\u001b[0m",
            "\u001b[0;31mNameError\u001b[0m: name 'add_emoji_embedding' is not defined"
          ]
        }
      ]
    },
    {
      "cell_type": "code",
      "metadata": {
        "id": "Bt72TZ4RO9ht",
        "colab_type": "code",
        "outputId": "7b0d722c-03ce-4812-f6f6-9acd7763d8f8",
        "colab": {
          "base_uri": "https://localhost:8080/",
          "height": 51
        }
      },
      "source": [
        "\n",
        "train_l = pad_sequences(train_l, maxlen=MAX_SEQUENCE_LENGTH, padding='post', truncating='post')\n",
        "train_m = pad_sequences(train_m, maxlen=MAX_SEQUENCE_LENGTH, padding='post', truncating='post')\n",
        "train_r = pad_sequences(train_r, maxlen=MAX_SEQUENCE_LENGTH, padding='post', truncating='post')\n",
        "train_all = pad_sequences(train_all, maxlen=MAX_SEQUENCE_LENGTH, padding='post', truncating='post')\n",
        "\n",
        "test_l = pad_sequences(test_l, maxlen=MAX_SEQUENCE_LENGTH, padding='post', truncating='post')\n",
        "test_m = pad_sequences(test_m, maxlen=MAX_SEQUENCE_LENGTH, padding='post', truncating='post')\n",
        "test_r = pad_sequences(test_r, maxlen=MAX_SEQUENCE_LENGTH, padding='post', truncating='post')\n",
        "test_all = pad_sequences(test_all, maxlen=MAX_SEQUENCE_LENGTH, padding='post', truncating='post')\n",
        "\n",
        "eval_l = pad_sequences(eval_l, maxlen=MAX_SEQUENCE_LENGTH, padding='post', truncating='post')\n",
        "eval_m = pad_sequences(eval_m, maxlen=MAX_SEQUENCE_LENGTH, padding='post', truncating='post')\n",
        "eval_r = pad_sequences(eval_r, maxlen=MAX_SEQUENCE_LENGTH, padding='post', truncating='post')\n",
        "eval_all = pad_sequences(eval_all, maxlen=MAX_SEQUENCE_LENGTH, padding='post', truncating='post')\n",
        "\n",
        "print(\"Shape of training data tensor: \", train_l.shape)\n",
        "print(\"Shape of training label tensor: \", labels.shape)"
      ],
      "execution_count": 18,
      "outputs": [
        {
          "output_type": "stream",
          "text": [
            "Shape of training data tensor:  (24128, 35)\n",
            "Shape of training label tensor:  (24128, 4)\n"
          ],
          "name": "stdout"
        }
      ]
    },
    {
      "cell_type": "code",
      "metadata": {
        "id": "qwNPo5DANlMX",
        "colab_type": "code",
        "colab": {}
      },
      "source": [
        "embedding_mat = {\"embedding_matrix\":embedding_matrix}\n",
        "with open(\"/content/drive/My Drive/EmoContext/embedding_mat.pickle\", 'wb') as f:\n",
        "  pickle.dump(embedding_mat, f)"
      ],
      "execution_count": 0,
      "outputs": []
    },
    {
      "cell_type": "code",
      "metadata": {
        "id": "3WTUptlQVjCQ",
        "colab_type": "code",
        "colab": {}
      },
      "source": [
        "embedding_matrix = pickle.load(open(\"/content/drive/My Drive/EmoContext/embedding_mat.pickle\", 'rb'))[\"embedding_matrix\"]"
      ],
      "execution_count": 0,
      "outputs": []
    },
    {
      "cell_type": "markdown",
      "metadata": {
        "id": "AkUu6IsAd-9S",
        "colab_type": "text"
      },
      "source": [
        "# Self-attention Bi-Directional LSTM (March 11)\n",
        "\n",
        "- Wednesday March 11 will be focused on building and training the model\n",
        "- The self attention module is composed of a encoder - self-attention layer - decoder"
      ]
    },
    {
      "cell_type": "code",
      "metadata": {
        "id": "6f7yat2kWnMI",
        "colab_type": "code",
        "outputId": "cebc1d85-c01e-4854-86d3-582b64ead430",
        "colab": {
          "base_uri": "https://localhost:8080/",
          "height": 34
        }
      },
      "source": [
        "sys.path.append('/content/drive/My Drive/EmoContext')\n",
        "import utils\n",
        "from utils import CyclicLR, microF1Loss"
      ],
      "execution_count": 0,
      "outputs": [
        {
          "output_type": "stream",
          "text": [
            "Loading utils module\n"
          ],
          "name": "stdout"
        }
      ]
    },
    {
      "cell_type": "code",
      "metadata": {
        "id": "T7jvyQimTyrQ",
        "colab_type": "code",
        "colab": {}
      },
      "source": [
        "\n",
        "from keras.layers import average\n",
        "from keras.regularizers import l1, l2, l1_l2\n",
        "from keras.layers import RepeatVector\n",
        "import keras.backend as K\n",
        "\n",
        "from keras.constraints import MinMaxNorm\n",
        "from keras.layers import Lambda\n",
        "\n",
        "from keras.models import Sequential, load_model, Model\n",
        "from keras.layers import concatenate, Activation, GlobalAveragePooling1D, GlobalMaxPooling1D, Layer, Dense, Embedding, LSTM, GRU, Dropout, SpatialDropout1D, Input, Average, Bidirectional, BatchNormalization\n",
        "from keras.callbacks import Callback\n",
        "from keras import initializers, regularizers, constraints, optimizers, layers\n",
        "\n",
        "def buildSingleModel(embeddingMatrix, hidDim=128, maxlen=MAX_SEQUENCE_LENGTH, dp=0.25):\n",
        "    embeddingLayer = Embedding(embeddingMatrix.shape[0],\n",
        "                                    embeddingMatrix.shape[1],\n",
        "                                    weights=[embeddingMatrix],\n",
        "                                    input_length=MAX_SEQUENCE_LENGTH,\n",
        "                                    trainable=False)\n",
        "    \n",
        "    inp = Input(shape=(maxlen,))\n",
        "    x = embeddingLayer(inp)\n",
        "    x = SpatialDropout1D(dp)(x)\n",
        "    x = LSTM(hidDim, return_sequences=True, dropout=dp, recurrent_dropout=dp)(x)\n",
        "    y = GRU(hidDim, return_sequences=True, dropout=dp, recurrent_dropout=dp)(x)\n",
        "    \n",
        "    att_x = utils.Attention(MAX_SEQUENCE_LENGTH)(x)\n",
        "    mean_x = GlobalAveragePooling1D()(x)\n",
        "    max_x = GlobalMaxPooling1D()(x)\n",
        "    conc_x = concatenate([att_x, mean_x, max_x])\n",
        "    conc_x = Dropout(dp)(conc_x)\n",
        "    conc_x = Dense(hidDim, activation='relu')(conc_x)\n",
        "    \n",
        "    att_y = utils.Attention(MAX_SEQUENCE_LENGTH)(y)\n",
        "    mean_y = GlobalAveragePooling1D()(y)\n",
        "    max_y = GlobalMaxPooling1D()(y)\n",
        "    conc_y = concatenate([att_y, mean_y, max_y])\n",
        "    conc_y = Dropout(dp)(conc_y)\n",
        "    conc_y = Dense(hidDim, activation='relu')(conc_y)\n",
        "    \n",
        "    conc = concatenate([conc_x, conc_y])\n",
        "    conc = Dropout(dp)(conc)\n",
        "    conc = Dense(hidDim, activation='relu')(conc)\n",
        "    conc = Dropout(dp)(conc)\n",
        "    output = Dense(NUM_CLASSES, activation='softmax')(conc)\n",
        "\n",
        "    model = Model(inputs=inp, outputs=output)\n",
        "    model.compile(loss='categorical_crossentropy',\n",
        "                optimizer=optimizers.Adam(1e-3),\n",
        "                metrics=[microF1Loss])\n",
        "\n",
        "    return model"
      ],
      "execution_count": 0,
      "outputs": []
    },
    {
      "cell_type": "code",
      "metadata": {
        "id": "eSPVZHkRT-8B",
        "colab_type": "code",
        "outputId": "3dea1f77-9b09-4170-ae84-1a3fa8c8396c",
        "colab": {
          "base_uri": "https://localhost:8080/",
          "height": 105
        }
      },
      "source": [
        "clr = CyclicLR(base_lr=0.001, max_lr=0.005,\n",
        "               step_size=300., mode='exp_range',\n",
        "               gamma=0.99994)\n",
        "model = buildSingleModel(embedding_matrix, hidDim=32, dp=0.25)"
      ],
      "execution_count": 0,
      "outputs": [
        {
          "output_type": "stream",
          "text": [
            "WARNING:tensorflow:From /usr/local/lib/python3.6/dist-packages/keras/optimizers.py:793: The name tf.train.Optimizer is deprecated. Please use tf.compat.v1.train.Optimizer instead.\n",
            "\n",
            "WARNING:tensorflow:From /usr/local/lib/python3.6/dist-packages/keras/backend/tensorflow_backend.py:3576: The name tf.log is deprecated. Please use tf.math.log instead.\n",
            "\n"
          ],
          "name": "stdout"
        }
      ]
    },
    {
      "cell_type": "code",
      "metadata": {
        "id": "DoDVpvYaXEcm",
        "colab_type": "code",
        "outputId": "c0e06c1a-724f-404d-8d36-61a3c2d39df6",
        "colab": {
          "base_uri": "https://localhost:8080/",
          "height": 1000
        }
      },
      "source": [
        "from keras.utils import plot_model\n",
        "plot_model(model, to_file='/content/drive/My Drive/EmoContext/model.png', show_shapes=True)"
      ],
      "execution_count": 0,
      "outputs": [
        {
          "output_type": "execute_result",
          "data": {
            "image/png": "[encoded data removed]",
            "text/plain": [
              "<IPython.core.display.Image object>"
            ]
          },
          "metadata": {
            "tags": []
          },
          "execution_count": 42
        }
      ]
    },
    {
      "cell_type": "code",
      "metadata": {
        "id": "B3DzjuLeZr70",
        "colab_type": "code",
        "outputId": "21d40fd8-55c1-49a3-aef0-6f49b009fecc",
        "colab": {
          "base_uri": "https://localhost:8080/",
          "height": 1000
        }
      },
      "source": [
        "model.summary()"
      ],
      "execution_count": 0,
      "outputs": [
        {
          "output_type": "stream",
          "text": [
            "Model: \"model_2\"\n",
            "__________________________________________________________________________________________________\n",
            "Layer (type)                    Output Shape         Param #     Connected to                     \n",
            "==================================================================================================\n",
            "input_2 (InputLayer)            (None, 35)           0                                            \n",
            "__________________________________________________________________________________________________\n",
            "embedding_2 (Embedding)         (None, 35, 300)      4919700     input_2[0][0]                    \n",
            "__________________________________________________________________________________________________\n",
            "spatial_dropout1d_2 (SpatialDro (None, 35, 300)      0           embedding_2[0][0]                \n",
            "__________________________________________________________________________________________________\n",
            "lstm_2 (LSTM)                   (None, 35, 32)       42624       spatial_dropout1d_2[0][0]        \n",
            "__________________________________________________________________________________________________\n",
            "gru_2 (GRU)                     (None, 35, 32)       6240        lstm_2[0][0]                     \n",
            "__________________________________________________________________________________________________\n",
            "attention_3 (Attention)         (None, 32)           67          lstm_2[0][0]                     \n",
            "__________________________________________________________________________________________________\n",
            "global_average_pooling1d_3 (Glo (None, 32)           0           lstm_2[0][0]                     \n",
            "__________________________________________________________________________________________________\n",
            "global_max_pooling1d_3 (GlobalM (None, 32)           0           lstm_2[0][0]                     \n",
            "__________________________________________________________________________________________________\n",
            "attention_4 (Attention)         (None, 32)           67          gru_2[0][0]                      \n",
            "__________________________________________________________________________________________________\n",
            "global_average_pooling1d_4 (Glo (None, 32)           0           gru_2[0][0]                      \n",
            "__________________________________________________________________________________________________\n",
            "global_max_pooling1d_4 (GlobalM (None, 32)           0           gru_2[0][0]                      \n",
            "__________________________________________________________________________________________________\n",
            "concatenate_4 (Concatenate)     (None, 96)           0           attention_3[0][0]                \n",
            "                                                                 global_average_pooling1d_3[0][0] \n",
            "                                                                 global_max_pooling1d_3[0][0]     \n",
            "__________________________________________________________________________________________________\n",
            "concatenate_5 (Concatenate)     (None, 96)           0           attention_4[0][0]                \n",
            "                                                                 global_average_pooling1d_4[0][0] \n",
            "                                                                 global_max_pooling1d_4[0][0]     \n",
            "__________________________________________________________________________________________________\n",
            "dropout_5 (Dropout)             (None, 96)           0           concatenate_4[0][0]              \n",
            "__________________________________________________________________________________________________\n",
            "dropout_6 (Dropout)             (None, 96)           0           concatenate_5[0][0]              \n",
            "__________________________________________________________________________________________________\n",
            "dense_5 (Dense)                 (None, 32)           3104        dropout_5[0][0]                  \n",
            "__________________________________________________________________________________________________\n",
            "dense_6 (Dense)                 (None, 32)           3104        dropout_6[0][0]                  \n",
            "__________________________________________________________________________________________________\n",
            "concatenate_6 (Concatenate)     (None, 64)           0           dense_5[0][0]                    \n",
            "                                                                 dense_6[0][0]                    \n",
            "__________________________________________________________________________________________________\n",
            "dropout_7 (Dropout)             (None, 64)           0           concatenate_6[0][0]              \n",
            "__________________________________________________________________________________________________\n",
            "dense_7 (Dense)                 (None, 32)           2080        dropout_7[0][0]                  \n",
            "__________________________________________________________________________________________________\n",
            "dropout_8 (Dropout)             (None, 32)           0           dense_7[0][0]                    \n",
            "__________________________________________________________________________________________________\n",
            "dense_8 (Dense)                 (None, 4)            132         dropout_8[0][0]                  \n",
            "==================================================================================================\n",
            "Total params: 4,977,118\n",
            "Trainable params: 57,418\n",
            "Non-trainable params: 4,919,700\n",
            "__________________________________________________________________________________________________\n"
          ],
          "name": "stdout"
        }
      ]
    },
    {
      "cell_type": "code",
      "metadata": {
        "id": "ervIx3bNba3E",
        "colab_type": "code",
        "outputId": "114acfd5-5f0c-4038-e29e-3f3a678bd85b",
        "colab": {
          "base_uri": "https://localhost:8080/",
          "height": 34
        }
      },
      "source": [
        "from keras.backend import int_shape\n",
        "int_shape(model.input)"
      ],
      "execution_count": 0,
      "outputs": [
        {
          "output_type": "execute_result",
          "data": {
            "text/plain": [
              "(None, 35)"
            ]
          },
          "metadata": {
            "tags": []
          },
          "execution_count": 56
        }
      ]
    },
    {
      "cell_type": "code",
      "metadata": {
        "id": "-lswF8IDb8dv",
        "colab_type": "code",
        "outputId": "73d5ca2d-ef30-45a3-ffc4-8efd30f0fca5",
        "colab": {
          "base_uri": "https://localhost:8080/",
          "height": 343
        }
      },
      "source": [
        "model.trainable_weights"
      ],
      "execution_count": 0,
      "outputs": [
        {
          "output_type": "execute_result",
          "data": {
            "text/plain": [
              "[<tf.Variable 'lstm_2/kernel:0' shape=(300, 128) dtype=float32_ref>,\n",
              " <tf.Variable 'lstm_2/recurrent_kernel:0' shape=(32, 128) dtype=float32_ref>,\n",
              " <tf.Variable 'lstm_2/bias:0' shape=(128,) dtype=float32_ref>,\n",
              " <tf.Variable 'gru_2/kernel:0' shape=(32, 96) dtype=float32_ref>,\n",
              " <tf.Variable 'gru_2/recurrent_kernel:0' shape=(32, 96) dtype=float32_ref>,\n",
              " <tf.Variable 'gru_2/bias:0' shape=(96,) dtype=float32_ref>,\n",
              " <tf.Variable 'attention_3/attention_3_W:0' shape=(32,) dtype=float32_ref>,\n",
              " <tf.Variable 'attention_3/attention_3_b:0' shape=(35,) dtype=float32_ref>,\n",
              " <tf.Variable 'attention_4/attention_4_W:0' shape=(32,) dtype=float32_ref>,\n",
              " <tf.Variable 'attention_4/attention_4_b:0' shape=(35,) dtype=float32_ref>,\n",
              " <tf.Variable 'dense_5/kernel:0' shape=(96, 32) dtype=float32_ref>,\n",
              " <tf.Variable 'dense_5/bias:0' shape=(32,) dtype=float32_ref>,\n",
              " <tf.Variable 'dense_6/kernel:0' shape=(96, 32) dtype=float32_ref>,\n",
              " <tf.Variable 'dense_6/bias:0' shape=(32,) dtype=float32_ref>,\n",
              " <tf.Variable 'dense_7/kernel:0' shape=(64, 32) dtype=float32_ref>,\n",
              " <tf.Variable 'dense_7/bias:0' shape=(32,) dtype=float32_ref>,\n",
              " <tf.Variable 'dense_8/kernel:0' shape=(32, 4) dtype=float32_ref>,\n",
              " <tf.Variable 'dense_8/bias:0' shape=(4,) dtype=float32_ref>]"
            ]
          },
          "metadata": {
            "tags": []
          },
          "execution_count": 53
        }
      ]
    },
    {
      "cell_type": "code",
      "metadata": {
        "id": "X_EqjjLdU4Nw",
        "colab_type": "code",
        "outputId": "b0f31b41-ed4e-4c68-9cc2-128178b60d73",
        "colab": {
          "base_uri": "https://localhost:8080/",
          "height": 462
        }
      },
      "source": [
        "\n",
        "from livelossplot.keras import PlotLossesCallback\n",
        "\n",
        "model.fit(train_all, labels,\n",
        "          batch_size=8192, epochs=100,\n",
        "          callbacks=[PlotLossesCallback(), clr],\n",
        "          verbose=0,\n",
        "          validation_data=(eval_all,  evalLabels))"
      ],
      "execution_count": 0,
      "outputs": [
        {
          "output_type": "display_data",
          "data": {
            "image/png": "[encoded data removed]",
            "text/plain": [
              "<Figure size 864x576 with 2 Axes>"
            ]
          },
          "metadata": {
            "tags": []
          }
        },
        {
          "output_type": "stream",
          "text": [
            "Log-loss (cost function):\n",
            "training   (min:    0.348, max:    1.238, cur:    0.354)\n",
            "validation (min:    0.331, max:    0.888, cur:    0.338)\n",
            "\n",
            "microF1Loss:\n",
            "training   (min:    0.000, max:    0.862, cur:    0.861)\n",
            "validation (min:    0.031, max:    0.677, cur:    0.665)\n"
          ],
          "name": "stdout"
        },
        {
          "output_type": "execute_result",
          "data": {
            "text/plain": [
              "<keras.callbacks.History at 0x7f054cabe6a0>"
            ]
          },
          "metadata": {
            "tags": []
          },
          "execution_count": 108
        }
      ]
    },
    {
      "cell_type": "code",
      "metadata": {
        "id": "-7XsVctmU6rO",
        "colab_type": "code",
        "colab": {}
      },
      "source": [
        "# !pip install livelossplot"
      ],
      "execution_count": 0,
      "outputs": []
    },
    {
      "cell_type": "code",
      "metadata": {
        "id": "QooQyWdhUZW8",
        "colab_type": "code",
        "colab": {}
      },
      "source": [
        "from utils import CyclicLR\n",
        "from utils import microF1Loss"
      ],
      "execution_count": 0,
      "outputs": []
    },
    {
      "cell_type": "code",
      "metadata": {
        "id": "xTJuNX1WOIcF",
        "colab_type": "code",
        "colab": {}
      },
      "source": [
        "import torch.nn as nn\n",
        "import torch.optim as optim\n",
        "import torch.nn.functional as F\n",
        "from torch.utils.data import Dataset, DataLoader\n",
        "from torch.nn.utils.rnn import pack_padded_sequence, pad_packed_sequence\n",
        "from torch.autograd import Variable\n",
        "from torchtext.data import Example\n",
        "from sklearn.metrics import f1_score\n",
        "import torchtext\n",
        "import os \n",
        "import copy\n",
        "import time\n",
        "\n",
        "\n",
        "from sklearn.model_selection import StratifiedKFold\n",
        "from sklearn.metrics import f1_score\n",
        "from torch.optim.optimizer import Optimizer\n",
        "from unidecode import unidecode"
      ],
      "execution_count": 0,
      "outputs": []
    },
    {
      "cell_type": "code",
      "metadata": {
        "id": "WeOv7tHA69I7",
        "colab_type": "code",
        "outputId": "7509e972-a5ed-4398-a6d8-77b6f6bd8af9",
        "colab": {
          "base_uri": "https://localhost:8080/",
          "height": 122
        }
      },
      "source": [
        "! pip install unidecode"
      ],
      "execution_count": 19,
      "outputs": [
        {
          "output_type": "stream",
          "text": [
            "Collecting unidecode\n",
            "\u001b[?25l  Downloading https://files.pythonhosted.org/packages/d0/42/d9edfed04228bacea2d824904cae367ee9efd05e6cce7ceaaedd0b0ad964/Unidecode-1.1.1-py2.py3-none-any.whl (238kB)\n",
            "\r\u001b[K     |█▍                              | 10kB 18.6MB/s eta 0:00:01\r\u001b[K     |██▊                             | 20kB 1.8MB/s eta 0:00:01\r\u001b[K     |████▏                           | 30kB 2.6MB/s eta 0:00:01\r\u001b[K     |█████▌                          | 40kB 3.4MB/s eta 0:00:01\r\u001b[K     |██████▉                         | 51kB 2.1MB/s eta 0:00:01\r\u001b[K     |████████▎                       | 61kB 2.5MB/s eta 0:00:01\r\u001b[K     |█████████▋                      | 71kB 2.9MB/s eta 0:00:01\r\u001b[K     |███████████                     | 81kB 3.3MB/s eta 0:00:01\r\u001b[K     |████████████▍                   | 92kB 3.7MB/s eta 0:00:01\r\u001b[K     |█████████████▊                  | 102kB 2.8MB/s eta 0:00:01\r\u001b[K     |███████████████▏                | 112kB 2.8MB/s eta 0:00:01\r\u001b[K     |████████████████▌               | 122kB 2.8MB/s eta 0:00:01\r\u001b[K     |█████████████████▉              | 133kB 2.8MB/s eta 0:00:01\r\u001b[K     |███████████████████▎            | 143kB 2.8MB/s eta 0:00:01\r\u001b[K     |████████████████████▋           | 153kB 2.8MB/s eta 0:00:01\r\u001b[K     |██████████████████████          | 163kB 2.8MB/s eta 0:00:01\r\u001b[K     |███████████████████████▍        | 174kB 2.8MB/s eta 0:00:01\r\u001b[K     |████████████████████████▊       | 184kB 2.8MB/s eta 0:00:01\r\u001b[K     |██████████████████████████▏     | 194kB 2.8MB/s eta 0:00:01\r\u001b[K     |███████████████████████████▌    | 204kB 2.8MB/s eta 0:00:01\r\u001b[K     |████████████████████████████▉   | 215kB 2.8MB/s eta 0:00:01\r\u001b[K     |██████████████████████████████▎ | 225kB 2.8MB/s eta 0:00:01\r\u001b[K     |███████████████████████████████▋| 235kB 2.8MB/s eta 0:00:01\r\u001b[K     |████████████████████████████████| 245kB 2.8MB/s \n",
            "\u001b[?25hInstalling collected packages: unidecode\n",
            "Successfully installed unidecode-1.1.1\n"
          ],
          "name": "stdout"
        }
      ]
    },
    {
      "cell_type": "code",
      "metadata": {
        "id": "jqBlZjI_d-9V",
        "colab_type": "code",
        "colab": {}
      },
      "source": [
        "class MyDataset(Dataset):\n",
        "    def __init__(self,dataset):\n",
        "        self.dataset = dataset\n",
        "    def __getitem__(self,index):\n",
        "        data,target = self.dataset[index]\n",
        "        return data,target,index\n",
        "    def __len__(self):\n",
        "        return len(self.dataset)"
      ],
      "execution_count": 0,
      "outputs": []
    },
    {
      "cell_type": "code",
      "metadata": {
        "id": "iu6OXyY2d-9Z",
        "colab_type": "code",
        "colab": {}
      },
      "source": [
        "def get_metrics(ground, predictions):\n",
        "    \"\"\"Given predicted labels and the respective ground truth labels, display some metrics\n",
        "    Input: shape [# of samples, NUM_CLASSES]\n",
        "        predictions : Model output. Every row has 4 decimal values, with the highest belonging to the predicted class\n",
        "        ground : Ground truth labels, converted to one-hot encodings. A sample belonging to Happy class will be [0, 1, 0, 0]\n",
        "    Output:\n",
        "        accuracy : Average accuracy\n",
        "        microPrecision : Precision calculated on a micro level. Ref -\n",
        "        https://datascience.stackexchange.com/questions/15989/micro-average-vs-macro-average-performance-in-a-multiclass-classification-settin/16001\n",
        "        microRecall : Recall calculated on a micro level\n",
        "        microF1 : Harmonic mean of microPrecision and microRecall. Higher value implies better classification\n",
        "    \"\"\"\n",
        "    # [0.1, 0.3 , 0.2, 0.1] -> [0, 1, 0, 0]\n",
        "    discretePredictions = to_categorical(predictions)\n",
        "    ground = to_categorical(ground)\n",
        "    truePositives = np.sum(discretePredictions * ground, axis=0)\n",
        "    falsePositives = np.sum(np.clip(discretePredictions - ground, 0, 1), axis=0)\n",
        "    falseNegatives = np.sum(np.clip(ground - discretePredictions, 0, 1), axis=0)\n",
        "\n",
        "    print(\"True Positives per class : \", truePositives)\n",
        "    print(\"False Positives per class : \", falsePositives)\n",
        "    print(\"False Negatives per class : \", falseNegatives)\n",
        "\n",
        "    #  Macro level calculation\n",
        "    macroPrecision = 0\n",
        "    macroRecall = 0\n",
        "    f1_list = []\n",
        "    # We ignore the \"Others\" class during the calculation of Precision, Recall and F1\n",
        "    for c in range(NUM_EMO-1):\n",
        "        precision = truePositives[c] / (truePositives[c] + falsePositives[c])\n",
        "        macroPrecision += precision\n",
        "        recall = truePositives[c] / (truePositives[c] + falseNegatives[c])\n",
        "        macroRecall += recall\n",
        "        f1 = (2 * recall * precision) / (precision + recall) if (precision + recall) > 0 else 0\n",
        "        f1_list.append(f1)\n",
        "        print(\"Class %s : Precision : %.3f, Recall : %.3f, F1 : %.3f\" % (EMOS[c], precision, recall, f1))\n",
        "\n",
        "    print('Direct average of macro F1s are :------> ', (f1_list[0] + f1_list[1] + f1_list[2]) / 3)\n",
        "    macroPrecision /= 3\n",
        "    macroRecall /= 3\n",
        "    macroF1 = (2 * macroRecall * macroPrecision) / (macroPrecision + macroRecall) \\\n",
        "        if (macroPrecision + macroRecall) > 0 else 0\n",
        "    print(\"Ignoring the Others class, Macro Precision : %.4f, Macro Recall : %.4f, Macro F1 : %.4f\" % (\n",
        "    macroPrecision, macroRecall, macroF1))\n",
        "\n",
        "    # Micro level calculation\n",
        "    truePositives = truePositives[1:].sum()\n",
        "    falsePositives = falsePositives[1:].sum()\n",
        "    falseNegatives = falseNegatives[1:].sum()\n",
        "\n",
        "    print(\"Ignoring the Others class, Micro TP : %d, FP : %d, FN : %d\"\n",
        "          % (truePositives, falsePositives, falseNegatives))\n",
        "\n",
        "    microPrecision = truePositives / (truePositives + falsePositives)\n",
        "    microRecall = truePositives / (truePositives + falseNegatives)\n",
        "\n",
        "    microF1 = (2 * microRecall * microPrecision) / (microPrecision + microRecall)\\\n",
        "        if (microPrecision + microRecall) > 0 else 0\n",
        "\n",
        "    # predictions = predictions.argmax(axis=1)\n",
        "    ground = ground.argmax(axis=1)\n",
        "    accuracy = np.mean(predictions == ground)\n",
        "\n",
        "    print(\"Accuracy : %.4f, Micro Precision : %.4f, Micro Recall : %.4f, Micro F1 : %.4f\" % (\n",
        "    accuracy, microPrecision, microRecall, microF1))\n",
        "    return accuracy, microPrecision, microRecall, microF1"
      ],
      "execution_count": 0,
      "outputs": []
    },
    {
      "cell_type": "code",
      "metadata": {
        "id": "f_lGBqJOd-9g",
        "colab_type": "code",
        "colab": {}
      },
      "source": [
        "# code inspired from: https://github.com/anandsaha/pytorch.cyclic.learning.rate/blob/master/cls.py\n",
        "class CyclicLR(object):\n",
        "    def __init__(self, optimizer, base_lr=1e-3, max_lr=6e-3,\n",
        "                 step_size=2000, mode='triangular', gamma=1.,\n",
        "                 scale_fn=None, scale_mode='cycle', last_batch_iteration=-1):\n",
        "\n",
        "        if not isinstance(optimizer, Optimizer):\n",
        "            raise TypeError('{} is not an Optimizer'.format(\n",
        "                type(optimizer).__name__))\n",
        "        self.optimizer = optimizer\n",
        "\n",
        "        if isinstance(base_lr, list) or isinstance(base_lr, tuple):\n",
        "            if len(base_lr) != len(optimizer.param_groups):\n",
        "                raise ValueError(\"expected {} base_lr, got {}\".format(\n",
        "                    len(optimizer.param_groups), len(base_lr)))\n",
        "            self.base_lrs = list(base_lr)\n",
        "        else:\n",
        "            self.base_lrs = [base_lr] * len(optimizer.param_groups)\n",
        "\n",
        "        if isinstance(max_lr, list) or isinstance(max_lr, tuple):\n",
        "            if len(max_lr) != len(optimizer.param_groups):\n",
        "                raise ValueError(\"expected {} max_lr, got {}\".format(\n",
        "                    len(optimizer.param_groups), len(max_lr)))\n",
        "            self.max_lrs = list(max_lr)\n",
        "        else:\n",
        "            self.max_lrs = [max_lr] * len(optimizer.param_groups)\n",
        "\n",
        "        self.step_size = step_size\n",
        "\n",
        "        if mode not in ['triangular', 'triangular2', 'exp_range'] \\\n",
        "                and scale_fn is None:\n",
        "            raise ValueError('mode is invalid and scale_fn is None')\n",
        "\n",
        "        self.mode = mode\n",
        "        self.gamma = gamma\n",
        "\n",
        "        if scale_fn is None:\n",
        "            if self.mode == 'triangular':\n",
        "                self.scale_fn = self._triangular_scale_fn\n",
        "                self.scale_mode = 'cycle'\n",
        "            elif self.mode == 'triangular2':\n",
        "                self.scale_fn = self._triangular2_scale_fn\n",
        "                self.scale_mode = 'cycle'\n",
        "            elif self.mode == 'exp_range':\n",
        "                self.scale_fn = self._exp_range_scale_fn\n",
        "                self.scale_mode = 'iterations'\n",
        "        else:\n",
        "            self.scale_fn = scale_fn\n",
        "            self.scale_mode = scale_mode\n",
        "\n",
        "        self.batch_step(last_batch_iteration + 1)\n",
        "        self.last_batch_iteration = last_batch_iteration\n",
        "\n",
        "    def batch_step(self, batch_iteration=None):\n",
        "        if batch_iteration is None:\n",
        "            batch_iteration = self.last_batch_iteration + 1\n",
        "        self.last_batch_iteration = batch_iteration\n",
        "        for param_group, lr in zip(self.optimizer.param_groups, self.get_lr()):\n",
        "            param_group['lr'] = lr\n",
        "\n",
        "    def _triangular_scale_fn(self, x):\n",
        "        return 1.\n",
        "\n",
        "    def _triangular2_scale_fn(self, x):\n",
        "        return 1 / (2. ** (x - 1))\n",
        "\n",
        "    def _exp_range_scale_fn(self, x):\n",
        "        return self.gamma**(x)\n",
        "\n",
        "    def get_lr(self):\n",
        "        step_size = float(self.step_size)\n",
        "        cycle = np.floor(1 + self.last_batch_iteration / (2 * step_size))\n",
        "        x = np.abs(self.last_batch_iteration / step_size - 2 * cycle + 1)\n",
        "\n",
        "        lrs = []\n",
        "        param_lrs = zip(self.optimizer.param_groups, self.base_lrs, self.max_lrs)\n",
        "        for param_group, base_lr, max_lr in param_lrs:\n",
        "            base_height = (max_lr - base_lr) * np.maximum(0, (1 - x))\n",
        "            if self.scale_mode == 'cycle':\n",
        "                lr = base_lr + base_height * self.scale_fn(cycle)\n",
        "            else:\n",
        "                lr = base_lr + base_height * self.scale_fn(self.last_batch_iteration)\n",
        "            lrs.append(lr)\n",
        "        return lrs\n"
      ],
      "execution_count": 0,
      "outputs": []
    },
    {
      "cell_type": "code",
      "metadata": {
        "id": "Kl_4YYfqwba_",
        "colab_type": "code",
        "colab": {}
      },
      "source": [
        "# !pip install torchnlp\n",
        "#!pip install pytorch-nlp"
      ],
      "execution_count": 0,
      "outputs": []
    },
    {
      "cell_type": "code",
      "metadata": {
        "id": "OwN2fZKGd-9o",
        "colab_type": "code",
        "colab": {}
      },
      "source": [
        "def softmax(x):\n",
        "    \"\"\"Compute softmax values for each sets of scores in x.\"\"\"\n",
        "    e_x = np.exp(x - np.max(x))\n",
        "    #return e_x / e_x.sum(axis=0)\n",
        "    return e_x / e_x.sum()"
      ],
      "execution_count": 0,
      "outputs": []
    },
    {
      "cell_type": "code",
      "metadata": {
        "id": "2WZaVEx_d-9r",
        "colab_type": "code",
        "colab": {}
      },
      "source": [
        "def pytorch_model_run_cv(x_train,y_train,x_test, model_obj, feats = False,clip = True):\n",
        "    seed_everything()\n",
        "    avg_losses_f = []\n",
        "    avg_val_losses_f = []\n",
        "    # matrix for the out-of-fold predictions\n",
        "    train_preds = np.zeros((len(x_train)))\n",
        "    # matrix for the predictions on the test set\n",
        "    test_preds = np.zeros((len(x_test)))\n",
        "    splits = list(StratifiedKFold(n_splits=n_splits, shuffle=True, random_state=SEED).split(x_train, y_train))\n",
        "    for i, (train_idx, valid_idx) in enumerate(splits):\n",
        "        seed_everything(i*1000+i)\n",
        "        x_train = np.array(x_train)\n",
        "        y_train = np.array(y_train)\n",
        "        if feats:\n",
        "            features = np.array(features)\n",
        "        x_train_fold = torch.tensor(x_train[train_idx.astype(int)], dtype=torch.long)\n",
        "        # \\.cuda()\n",
        "        # y_train_fold = torch.tensor(y_train[train_idx.astype(int), np.newaxis], dtype=torch.float32)\n",
        "        y_train_fold = torch.tensor(y_train[train_idx.astype(int)], dtype=torch.long)\n",
        "        # \\.cuda()\n",
        "        if feats:\n",
        "            kfold_X_features = features[train_idx.astype(int)]\n",
        "            kfold_X_valid_features = features[valid_idx.astype(int)]\n",
        "        x_val_fold = torch.tensor(x_train[valid_idx.astype(int)], dtype=torch.long)\n",
        "        # \\.cuda()\n",
        "        # y_val_fold = torch.tensor(y_train[valid_idx.astype(int), np.newaxis], dtype=torch.float32)\n",
        "        y_val_fold = torch.tensor(y_train[valid_idx.astype(int)], dtype=torch.long)\n",
        "        # \\.cuda()\n",
        "\n",
        "        model = copy.deepcopy(model_obj)\n",
        "\n",
        "        model\n",
        "        # \\.cuda()\n",
        "\n",
        "        loss_fn = torch.nn.CrossEntropyLoss()\n",
        "\n",
        "        step_size = 300\n",
        "        base_lr, max_lr = 0.001, 0.005  \n",
        "        optimizer = torch.optim.Adam(filter(lambda p: p.requires_grad, model.parameters()), \n",
        "                                 lr=1e-3)\n",
        "\n",
        "        ################################################################################################\n",
        "        scheduler = CyclicLR(optimizer, base_lr=base_lr, max_lr=max_lr,\n",
        "                   step_size=step_size, mode='exp_range',\n",
        "                   gamma=0.99994)\n",
        "        ###############################################################################################\n",
        "\n",
        "        train = MyDataset(torch.utils.data.TensorDataset(x_train_fold, y_train_fold))\n",
        "        valid = MyDataset(torch.utils.data.TensorDataset(x_val_fold, y_val_fold))\n",
        "\n",
        "        train_loader = torch.utils.data.DataLoader(train, batch_size=batch_size, shuffle=True)\n",
        "        valid_loader = torch.utils.data.DataLoader(valid, batch_size=batch_size, shuffle=False)\n",
        "\n",
        "        print(f'Fold {i + 1}')\n",
        "        for epoch in range(n_epochs):\n",
        "            start_time = time.time()\n",
        "            model.train()\n",
        "\n",
        "            avg_loss = 0.  \n",
        "            for i, (x_batch, y_batch, index) in enumerate(train_loader):\n",
        "                if feats:       \n",
        "                    f = kfold_X_features[index]\n",
        "                    y_pred = model([x_batch,f])\n",
        "                else:\n",
        "                    y_pred = model(x_batch)\n",
        "\n",
        "                if scheduler:\n",
        "                    scheduler.batch_step()\n",
        "\n",
        "                # Compute and print loss.\n",
        "                # print(y_batch)\n",
        "                loss = loss_fn(y_pred, y_batch)\n",
        "                # print (loss.shape)\n",
        "                optimizer.zero_grad()\n",
        "                loss.backward()\n",
        "                if clip:\n",
        "                    nn.utils.clip_grad_norm_(model.parameters(),1)\n",
        "                optimizer.step()\n",
        "                avg_loss += loss.item() / len(train_loader)\n",
        "\n",
        "            model.eval()\n",
        "\n",
        "            valid_preds_fold = np.zeros((x_val_fold.size(0)))\n",
        "            test_preds_fold = np.zeros((len(x_test)))\n",
        "\n",
        "            avg_val_loss = 0.\n",
        "            for i, (x_batch, y_batch,index) in enumerate(valid_loader):\n",
        "                if feats:\n",
        "                    f = kfold_X_valid_features[index]            \n",
        "                    y_pred = model([x_batch,f]).detach()\n",
        "                else:\n",
        "                    y_pred = model(x_batch).detach()\n",
        "\n",
        "                avg_val_loss += loss_fn(y_pred, y_batch).item() / len(valid_loader)\n",
        "                valid_preds_fold[index] = softmax(y_pred.cpu().numpy())[:, 0]\n",
        "\n",
        "            elapsed_time = time.time() - start_time \n",
        "            print('Epoch {}/{} \\t loss={:.4f} \\t val_loss={:.4f} \\t time={:.2f}s'.format(\n",
        "                epoch + 1, n_epochs, avg_loss, avg_val_loss, elapsed_time))\n",
        "        avg_losses_f.append(avg_loss)\n",
        "        avg_val_losses_f.append(avg_val_loss) \n",
        "        # predict all samples in the test set batch per batch\n",
        "        for i, (x_batch,) in enumerate(test_loader):\n",
        "            if feats:\n",
        "                f = test_features[i * batch_size:(i+1) * batch_size]\n",
        "                y_pred = model([x_batch,f]).detach()\n",
        "            else:\n",
        "                y_pred = model(x_batch).detach()\n",
        "\n",
        "            test_preds_fold[i * batch_size:(i+1) * batch_size] = softmax(y_pred.cpu().numpy())[:, 0]\n",
        "\n",
        "        train_preds[valid_idx] = valid_preds_fold\n",
        "        test_preds += test_preds_fold / len(splits)\n",
        "\n",
        "    print('All \\t loss={:.4f} \\t val_loss={:.4f} \\t '.format(np.average(avg_losses_f),np.average(avg_val_losses_f)))\n",
        "    return train_preds, test_preds\n",
        "    "
      ],
      "execution_count": 0,
      "outputs": []
    },
    {
      "cell_type": "code",
      "metadata": {
        "id": "lE7LuyO4d-9t",
        "colab_type": "code",
        "colab": {}
      },
      "source": [
        "import torch as torch\n",
        "x_test_cuda = torch.tensor(eval_all, dtype=torch.long)\n",
        "# \\.cuda()\n",
        "test = torch.utils.data.TensorDataset(x_test_cuda)\n",
        "test_loader = torch.utils.data.DataLoader(test, batch_size=batch_size, shuffle=False)"
      ],
      "execution_count": 0,
      "outputs": []
    },
    {
      "cell_type": "code",
      "metadata": {
        "id": "XwxIyEsJsn2x",
        "colab_type": "code",
        "colab": {}
      },
      "source": [
        "from torch.nn import Module\n",
        "class ptAttention(Module):\n",
        "    \"\"\"\n",
        "    Computes a weighted average of channels across timesteps (1 parameter pr. channel).\n",
        "    \"\"\"\n",
        "    def __init__(self, attention_size, return_attention=False):\n",
        "        \"\"\" Initialize the attention layer\n",
        "        # Arguments:\n",
        "            attention_size: Size of the attention vector.\n",
        "            return_attention: If true, output will include the weight for each input token\n",
        "                              used for the prediction\n",
        "        \"\"\"\n",
        "        super(ptAttention, self).__init__()\n",
        "        self.return_attention = return_attention\n",
        "        self.attention_size = attention_size\n",
        "        self.attention_vector = Parameter(torch.FloatTensor(attention_size))\n",
        "\n",
        "    def __repr__(self):\n",
        "        s = '{name}({attention_size}, return attention={return_attention})'\n",
        "        return s.format(name=self.__class__.__name__, **self.__dict__)\n",
        "\n",
        "    def forward(self, inputs, input_lengths):\n",
        "        \"\"\" Forward pass.\n",
        "        # Arguments:\n",
        "            inputs (Torch.Variable): Tensor of input sequences\n",
        "            input_lengths (torch.LongTensor): Lengths of the sequences\n",
        "        # Return:\n",
        "            Tuple with (representations and attentions if self.return_attention else None).\n",
        "        \"\"\"\n",
        "        logits = inputs.matmul(self.attention_vector)\n",
        "        unnorm_ai = (logits - logits.max()).exp()\n",
        "\n",
        "        # Compute a mask for the attention on the padded sequences\n",
        "        # See e.g. https://discuss.pytorch.org/t/self-attention-on-words-and-masking/5671/5\n",
        "        # print (\"unnorm_ai shape\")\n",
        "        # print (unnorm_ai.shape)\n",
        "        max_len = unnorm_ai.size(1)\n",
        "        idxes = torch.arange(0, max_len, out=torch.LongTensor(max_len)).unsqueeze(0)\n",
        "        if torch.cuda.is_available():\n",
        "            idxes = idxes.cuda()\n",
        "        mask = Variable((idxes < input_lengths.unsqueeze(1)).float())\n",
        "        # apply mask and renormalize attention scores (weights)\n",
        "        masked_weights = unnorm_ai * mask\n",
        "        att_sums = masked_weights.sum(dim=1, keepdim=True)  # sums per sequence\n",
        "        attentions = masked_weights.div(att_sums)\n",
        "\n",
        "        # print (\"finished normalizing attention scores\")\n",
        "        # apply attention weights\n",
        "        weighted = torch.mul(inputs, attentions.unsqueeze(-1).expand_as(inputs))\n",
        "\n",
        "        # get the final fixed vector representations of the sentences\n",
        "        representations = weighted.sum(dim=1)\n",
        "\n",
        "        return (representations, attentions if self.return_attention else None)"
      ],
      "execution_count": 0,
      "outputs": []
    },
    {
      "cell_type": "code",
      "metadata": {
        "id": "WFXAf7GU5ruE",
        "colab_type": "code",
        "colab": {}
      },
      "source": [
        "import random\n",
        "def seed_everything(seed=10):\n",
        "    random.seed(seed)\n",
        "    os.environ['PYTHONHASHSEED'] = str(seed)\n",
        "    np.random.seed(seed)\n",
        "    torch.manual_seed(seed)\n",
        "    torch.cuda.manual_seed(seed)\n",
        "    torch.backends.cudnn.deterministic = True\n",
        "seed_everything()"
      ],
      "execution_count": 0,
      "outputs": []
    },
    {
      "cell_type": "code",
      "metadata": {
        "id": "dgXTo4NmlA8k",
        "colab_type": "code",
        "colab": {}
      },
      "source": [
        "from torch.nn.utils.rnn import pack_padded_sequence, pad_packed_sequence, PackedSequence"
      ],
      "execution_count": 0,
      "outputs": []
    },
    {
      "cell_type": "code",
      "metadata": {
        "id": "ggXWBg8pd-9k",
        "colab_type": "code",
        "colab": {}
      },
      "source": [
        "# from torchnlp.nn import Attention\n",
        "from torch.nn import GRU, LSTM, Dropout, Dropout2d, Linear, Embedding, Parameter, ReLU, Softmax\n",
        "import torch.functional as F\n",
        "import torch as torch\n",
        "\n",
        "class NelecModel(nn.Module):\n",
        "    def __init__(self, embedding_matrix, hid_dim=32, maxlen=MAX_SEQUENCE_LENGTH, dp=0.25):\n",
        "        super(NelecModel, self).__init__()\n",
        "\n",
        "        num_embeddings, embedding_dim = embedding_matrix.shape\n",
        "        self.embeddings = Embedding(num_embeddings, embedding_dim)\n",
        "        self.embeddings.weight = Parameter(torch.tensor(embedding_matrix, dtype=torch.float32))\n",
        "        self.embeddings.weight.requires_grad = False\n",
        "        \n",
        "        self.hidden_dim = hid_dim\n",
        "        self.gru    = GRU(hid_dim, hid_dim, dropout=dp)\n",
        "        self.embedding_dropout = nn.Dropout2d(dp)\n",
        "        for name, param in self.gru.named_parameters():\n",
        "            if 'bias' in name:\n",
        "                 nn.init.constant_(param, 0.0)\n",
        "            elif 'weight_ih' in name:\n",
        "                 nn.init.kaiming_normal_(param)\n",
        "            elif 'weight_hh' in name:\n",
        "                 nn.init.orthogonal_(param)\n",
        "\n",
        "        self.lstm   = LSTM(embedding_dim, hid_dim, dropout=dp)\n",
        "\n",
        "        for name, param in self.lstm.named_parameters():\n",
        "            if 'bias' in name:\n",
        "                 nn.init.constant_(param, 0.0)\n",
        "            elif 'weight_ih' in name:\n",
        "                 nn.init.kaiming_normal_(param)\n",
        "            elif 'weight_hh' in name:\n",
        "                 nn.init.orthogonal_(param)\n",
        "\n",
        "\n",
        "        self.drop_out = Dropout(dp)\n",
        "        self.attn   = ptAttention(hid_dim, return_attention=True)\n",
        "        self.hidden = Linear(hid_dim*3, hid_dim) # hidden layer for lstm and gru\n",
        "        self.hidden2 = Linear(hid_dim*2, NUM_CLASSES) # hidden layer for first concatenated dropout\n",
        "        self.relu   = ReLU()\n",
        "        # self.out    = Linear(NUM_CLASSES, 1)\n",
        "        \n",
        "    def forward(self, inp):\n",
        "        # (batch_size, max_seq_length, embdding_dim)      \n",
        "        inp_embed = self.embeddings(inp)\n",
        "\n",
        "        # Spatial dropout2d implementation\n",
        "        embeddings = inp_embed.unsqueeze(2)    # (N, T, 1, K)\n",
        "        embeddings = embeddings.permute(0, 3, 2, 1)  # (N, K, 1, T)\n",
        "        embeddings = self.embedding_dropout(embeddings)  # (N, K, 1, T), some features are masked\n",
        "        embeddings = embeddings.permute(0, 3, 2, 1)  # (N, T, 1, K)\n",
        "        inp_embed = embeddings.squeeze(2)  # (N, T, K)\n",
        "\n",
        "        input_seqs = inp_embed\n",
        "        input_lengths = torch.LongTensor([torch.max(input_seqs[i, :].data.nonzero()) + 1 for i in range(input_seqs.size()[0])])\n",
        "        input_lengths, perm_idx = input_lengths.sort(0, descending=True)\n",
        "        input_seqs = input_seqs[perm_idx][:, :input_lengths.max()]\n",
        "\n",
        "        in_lstm, h_lstm = self.lstm(inp_embed)\n",
        "        x_attn, _ = self.attn(in_lstm, input_lengths)\n",
        "\n",
        "        # print (\"X_attn size\")\n",
        "        # print (x_attn.shape)\n",
        "        x_mean = torch.mean(in_lstm, 1)\n",
        "        x_max, _ = torch.max(in_lstm, 1)\n",
        "        x = torch.cat((x_attn, x_mean, x_max), dim=1)\n",
        "        # print (\"x concate\")\n",
        "        # print (x.shape)\n",
        "        x = self.drop_out(x)\n",
        "        # print (\"x dropout\")\n",
        "        # print (x.shape)\n",
        "        x = self.relu(self.hidden(x))\n",
        "        # print (\"x relu\")\n",
        "        # print (x.shape)\n",
        "        \n",
        "        # gru layer: \n",
        "        y_gru, y_hgru = self.gru(in_lstm)\n",
        "\n",
        "        y_hgru = y_hgru.view(-1, self.hidden_dim )\n",
        "\n",
        "        # print(\"tensor containing the next hidden state for each element in the batch\")\n",
        "        # print (y_hgru )\n",
        "        # print (y_hgru.shape)\n",
        "        # y_attn, _ = self.attn(y_hgru, input_lengths)\n",
        "        y_attn, _ = self.attn(y_gru, input_lengths)\n",
        "        y_mean = torch.mean(y_gru, 1)\n",
        "        y_max,  _ = torch.max(y_gru, 1)\n",
        "        y = torch.cat((y_attn, y_mean, y_max), dim=1)\n",
        "        y = self.drop_out(y)\n",
        "        y = self.relu(self.hidden(y))\n",
        "        \n",
        "        conc = torch.cat((x, y), dim=1)\n",
        "        conc = self.drop_out(conc)\n",
        "        conc = self.relu(self.hidden2(conc))\n",
        "        conc = self.drop_out(conc)\n",
        "\n",
        "        # print (conc)\n",
        "        # print (conc.shape)\n",
        "        # output = self.out(conc)\n",
        "        \n",
        "        return conc\n",
        "        \n",
        "        "
      ],
      "execution_count": 0,
      "outputs": []
    },
    {
      "cell_type": "code",
      "metadata": {
        "id": "wAhES7_52Sc2",
        "colab_type": "code",
        "colab": {
          "base_uri": "https://localhost:8080/",
          "height": 1000
        },
        "outputId": "fe30b0fb-79d8-4bb0-c40d-ae4efabac1f9"
      },
      "source": [
        "n_splits = 5\n",
        "n_epochs = 100\n",
        "SEED = 24\n",
        "batch_size=8192\n",
        "train_preds, test_preds = pytorch_model_run_cv(train_all,\n",
        "                                               np.argmax(labels, axis=1),\n",
        "                                               eval_all,\n",
        "                                               NelecModel(embedding_matrix=embedding_matrix),\n",
        "                                               feats = False)\n"
      ],
      "execution_count": 0,
      "outputs": [
        {
          "output_type": "stream",
          "text": [
            "/usr/local/lib/python3.6/dist-packages/torch/nn/modules/rnn.py:50: UserWarning: dropout option adds dropout after all but last recurrent layer, so non-zero dropout expects num_layers greater than 1, but got dropout=0.25 and num_layers=1\n",
            "  \"num_layers={}\".format(dropout, num_layers))\n"
          ],
          "name": "stderr"
        },
        {
          "output_type": "stream",
          "text": [
            "Fold 1\n",
            "Epoch 1/100 \t loss=1.3498 \t val_loss=1.3291 \t time=21.57s\n",
            "Epoch 2/100 \t loss=1.3252 \t val_loss=1.2967 \t time=20.82s\n",
            "Epoch 3/100 \t loss=1.2993 \t val_loss=1.2664 \t time=20.90s\n",
            "Epoch 4/100 \t loss=1.2894 \t val_loss=1.2502 \t time=21.16s\n",
            "Epoch 5/100 \t loss=1.2925 \t val_loss=1.2492 \t time=21.17s\n",
            "Epoch 6/100 \t loss=1.2861 \t val_loss=1.2533 \t time=21.00s\n",
            "Epoch 7/100 \t loss=1.2833 \t val_loss=1.2596 \t time=20.75s\n",
            "Epoch 8/100 \t loss=1.2855 \t val_loss=1.2634 \t time=22.01s\n",
            "Epoch 9/100 \t loss=1.2845 \t val_loss=1.2626 \t time=21.23s\n",
            "Epoch 10/100 \t loss=1.2871 \t val_loss=1.2585 \t time=20.87s\n",
            "Epoch 11/100 \t loss=1.2853 \t val_loss=1.2548 \t time=20.94s\n",
            "Epoch 12/100 \t loss=1.2821 \t val_loss=1.2527 \t time=20.68s\n",
            "Epoch 13/100 \t loss=1.2869 \t val_loss=1.2530 \t time=20.99s\n",
            "Epoch 14/100 \t loss=1.2854 \t val_loss=1.2549 \t time=20.97s\n",
            "Epoch 15/100 \t loss=1.2844 \t val_loss=1.2567 \t time=20.84s\n",
            "Epoch 16/100 \t loss=1.2801 \t val_loss=1.2554 \t time=21.24s\n",
            "Epoch 17/100 \t loss=1.2812 \t val_loss=1.2512 \t time=21.20s\n",
            "Epoch 18/100 \t loss=1.2798 \t val_loss=1.2474 \t time=21.06s\n",
            "Epoch 19/100 \t loss=1.2794 \t val_loss=1.2467 \t time=20.98s\n",
            "Epoch 20/100 \t loss=1.2751 \t val_loss=1.2465 \t time=20.85s\n",
            "Epoch 21/100 \t loss=1.2716 \t val_loss=1.2401 \t time=20.86s\n",
            "Epoch 22/100 \t loss=1.2674 \t val_loss=1.2311 \t time=21.01s\n",
            "Epoch 23/100 \t loss=1.2628 \t val_loss=1.2275 \t time=20.59s\n",
            "Epoch 24/100 \t loss=1.2593 \t val_loss=1.2199 \t time=20.69s\n",
            "Epoch 25/100 \t loss=1.2472 \t val_loss=1.2026 \t time=20.65s\n",
            "Epoch 26/100 \t loss=1.2413 \t val_loss=1.1910 \t time=20.54s\n",
            "Epoch 27/100 \t loss=1.2263 \t val_loss=1.1706 \t time=20.60s\n",
            "Epoch 28/100 \t loss=1.2132 \t val_loss=1.1483 \t time=20.83s\n",
            "Epoch 29/100 \t loss=1.2026 \t val_loss=1.1320 \t time=20.78s\n",
            "Epoch 30/100 \t loss=1.1908 \t val_loss=1.1236 \t time=20.91s\n",
            "Epoch 31/100 \t loss=1.1850 \t val_loss=1.1017 \t time=20.83s\n",
            "Epoch 32/100 \t loss=1.1684 \t val_loss=1.0983 \t time=20.83s\n",
            "Epoch 33/100 \t loss=1.1695 \t val_loss=1.0862 \t time=20.86s\n",
            "Epoch 34/100 \t loss=1.1626 \t val_loss=1.0799 \t time=20.86s\n",
            "Epoch 35/100 \t loss=1.1529 \t val_loss=1.0702 \t time=20.69s\n",
            "Epoch 36/100 \t loss=1.1468 \t val_loss=1.0630 \t time=20.70s\n",
            "Epoch 37/100 \t loss=1.1473 \t val_loss=1.0622 \t time=20.68s\n",
            "Epoch 38/100 \t loss=1.1427 \t val_loss=1.0469 \t time=20.52s\n",
            "Epoch 39/100 \t loss=1.1436 \t val_loss=1.0531 \t time=20.19s\n",
            "Epoch 40/100 \t loss=1.1413 \t val_loss=1.0498 \t time=20.39s\n",
            "Epoch 41/100 \t loss=1.1291 \t val_loss=1.0434 \t time=19.95s\n",
            "Epoch 42/100 \t loss=1.1308 \t val_loss=1.0449 \t time=19.82s\n",
            "Epoch 43/100 \t loss=1.1282 \t val_loss=1.0317 \t time=19.85s\n",
            "Epoch 44/100 \t loss=1.1187 \t val_loss=1.0248 \t time=19.91s\n",
            "Epoch 45/100 \t loss=1.1217 \t val_loss=1.0343 \t time=20.16s\n",
            "Epoch 46/100 \t loss=1.1260 \t val_loss=1.0319 \t time=20.30s\n",
            "Epoch 47/100 \t loss=1.1205 \t val_loss=1.0272 \t time=19.79s\n",
            "Epoch 48/100 \t loss=1.1162 \t val_loss=1.0185 \t time=20.12s\n",
            "Epoch 49/100 \t loss=1.1092 \t val_loss=1.0161 \t time=19.94s\n",
            "Epoch 50/100 \t loss=1.1133 \t val_loss=1.0351 \t time=19.86s\n",
            "Epoch 51/100 \t loss=1.1120 \t val_loss=1.0088 \t time=20.01s\n",
            "Epoch 52/100 \t loss=1.1053 \t val_loss=1.0099 \t time=20.09s\n",
            "Epoch 53/100 \t loss=1.1043 \t val_loss=1.0170 \t time=20.38s\n",
            "Epoch 54/100 \t loss=1.1051 \t val_loss=0.9987 \t time=20.02s\n",
            "Epoch 55/100 \t loss=1.1036 \t val_loss=1.0124 \t time=19.84s\n",
            "Epoch 56/100 \t loss=1.1016 \t val_loss=1.0014 \t time=20.16s\n",
            "Epoch 57/100 \t loss=1.0984 \t val_loss=0.9983 \t time=20.18s\n",
            "Epoch 58/100 \t loss=1.0939 \t val_loss=1.0067 \t time=20.04s\n",
            "Epoch 59/100 \t loss=1.0981 \t val_loss=0.9953 \t time=19.95s\n",
            "Epoch 60/100 \t loss=1.0979 \t val_loss=1.0102 \t time=20.02s\n",
            "Epoch 61/100 \t loss=1.0935 \t val_loss=0.9982 \t time=20.10s\n",
            "Epoch 62/100 \t loss=1.0915 \t val_loss=0.9894 \t time=19.98s\n",
            "Epoch 63/100 \t loss=1.0915 \t val_loss=1.0161 \t time=19.95s\n",
            "Epoch 64/100 \t loss=1.0922 \t val_loss=0.9880 \t time=20.06s\n",
            "Epoch 65/100 \t loss=1.0902 \t val_loss=0.9920 \t time=20.09s\n",
            "Epoch 66/100 \t loss=1.0925 \t val_loss=1.0005 \t time=19.84s\n",
            "Epoch 67/100 \t loss=1.0907 \t val_loss=0.9845 \t time=19.65s\n",
            "Epoch 68/100 \t loss=1.0884 \t val_loss=1.0037 \t time=19.85s\n",
            "Epoch 69/100 \t loss=1.0972 \t val_loss=0.9886 \t time=19.97s\n",
            "Epoch 70/100 \t loss=1.0872 \t val_loss=0.9783 \t time=19.96s\n",
            "Epoch 71/100 \t loss=1.0775 \t val_loss=0.9881 \t time=19.70s\n",
            "Epoch 72/100 \t loss=1.0712 \t val_loss=0.9671 \t time=19.90s\n",
            "Epoch 73/100 \t loss=1.0745 \t val_loss=0.9655 \t time=19.93s\n",
            "Epoch 74/100 \t loss=1.0628 \t val_loss=0.9554 \t time=19.99s\n",
            "Epoch 75/100 \t loss=1.0637 \t val_loss=0.9564 \t time=20.23s\n",
            "Epoch 76/100 \t loss=1.0627 \t val_loss=0.9529 \t time=20.41s\n",
            "Epoch 77/100 \t loss=1.0592 \t val_loss=0.9660 \t time=20.56s\n",
            "Epoch 78/100 \t loss=1.0652 \t val_loss=0.9561 \t time=20.31s\n",
            "Epoch 79/100 \t loss=1.0569 \t val_loss=0.9517 \t time=20.21s\n",
            "Epoch 80/100 \t loss=1.0563 \t val_loss=0.9523 \t time=20.23s\n",
            "Epoch 81/100 \t loss=1.0531 \t val_loss=0.9436 \t time=20.56s\n",
            "Epoch 82/100 \t loss=1.0491 \t val_loss=0.9487 \t time=20.49s\n",
            "Epoch 83/100 \t loss=1.0534 \t val_loss=0.9523 \t time=20.41s\n",
            "Epoch 84/100 \t loss=1.0525 \t val_loss=0.9478 \t time=20.29s\n",
            "Epoch 85/100 \t loss=1.0494 \t val_loss=0.9535 \t time=20.37s\n",
            "Epoch 86/100 \t loss=1.0576 \t val_loss=0.9495 \t time=20.53s\n",
            "Epoch 87/100 \t loss=1.0483 \t val_loss=0.9395 \t time=20.45s\n",
            "Epoch 88/100 \t loss=1.0532 \t val_loss=0.9399 \t time=20.59s\n",
            "Epoch 89/100 \t loss=1.0525 \t val_loss=0.9672 \t time=20.46s\n",
            "Epoch 90/100 \t loss=1.0556 \t val_loss=0.9420 \t time=20.38s\n",
            "Epoch 91/100 \t loss=1.0497 \t val_loss=0.9396 \t time=20.04s\n",
            "Epoch 92/100 \t loss=1.0456 \t val_loss=0.9591 \t time=20.44s\n",
            "Epoch 93/100 \t loss=1.0441 \t val_loss=0.9373 \t time=20.74s\n",
            "Epoch 94/100 \t loss=1.0441 \t val_loss=0.9466 \t time=20.44s\n",
            "Epoch 95/100 \t loss=1.0429 \t val_loss=0.9520 \t time=20.10s\n",
            "Epoch 96/100 \t loss=1.0436 \t val_loss=0.9358 \t time=20.35s\n",
            "Epoch 97/100 \t loss=1.0443 \t val_loss=0.9455 \t time=20.34s\n",
            "Epoch 98/100 \t loss=1.0470 \t val_loss=0.9554 \t time=20.48s\n",
            "Epoch 99/100 \t loss=1.0420 \t val_loss=0.9356 \t time=20.34s\n",
            "Epoch 100/100 \t loss=1.0407 \t val_loss=0.9468 \t time=20.20s\n",
            "Fold 2\n",
            "Epoch 1/100 \t loss=1.3510 \t val_loss=1.3289 \t time=20.49s\n",
            "Epoch 2/100 \t loss=1.3240 \t val_loss=1.2964 \t time=19.88s\n",
            "Epoch 3/100 \t loss=1.2980 \t val_loss=1.2660 \t time=19.60s\n",
            "Epoch 4/100 \t loss=1.2890 \t val_loss=1.2499 \t time=19.94s\n",
            "Epoch 5/100 \t loss=1.2880 \t val_loss=1.2491 \t time=19.90s\n",
            "Epoch 6/100 \t loss=1.2904 \t val_loss=1.2528 \t time=19.73s\n",
            "Epoch 7/100 \t loss=1.2867 \t val_loss=1.2598 \t time=19.65s\n",
            "Epoch 8/100 \t loss=1.2848 \t val_loss=1.2646 \t time=20.29s\n",
            "Epoch 9/100 \t loss=1.2864 \t val_loss=1.2639 \t time=20.09s\n",
            "Epoch 10/100 \t loss=1.2868 \t val_loss=1.2597 \t time=19.77s\n",
            "Epoch 11/100 \t loss=1.2817 \t val_loss=1.2550 \t time=20.22s\n",
            "Epoch 12/100 \t loss=1.2858 \t val_loss=1.2520 \t time=20.03s\n",
            "Epoch 13/100 \t loss=1.2836 \t val_loss=1.2520 \t time=19.74s\n",
            "Epoch 14/100 \t loss=1.2851 \t val_loss=1.2543 \t time=19.95s\n",
            "Epoch 15/100 \t loss=1.2764 \t val_loss=1.2558 \t time=19.80s\n",
            "Epoch 16/100 \t loss=1.2798 \t val_loss=1.2537 \t time=19.93s\n",
            "Epoch 17/100 \t loss=1.2766 \t val_loss=1.2499 \t time=20.22s\n",
            "Epoch 18/100 \t loss=1.2778 \t val_loss=1.2464 \t time=20.06s\n",
            "Epoch 19/100 \t loss=1.2735 \t val_loss=1.2448 \t time=19.98s\n",
            "Epoch 20/100 \t loss=1.2756 \t val_loss=1.2437 \t time=20.03s\n",
            "Epoch 21/100 \t loss=1.2687 \t val_loss=1.2404 \t time=20.03s\n",
            "Epoch 22/100 \t loss=1.2661 \t val_loss=1.2324 \t time=20.52s\n",
            "Epoch 23/100 \t loss=1.2658 \t val_loss=1.2265 \t time=20.90s\n",
            "Epoch 24/100 \t loss=1.2534 \t val_loss=1.2180 \t time=20.37s\n",
            "Epoch 25/100 \t loss=1.2461 \t val_loss=1.2025 \t time=20.07s\n",
            "Epoch 26/100 \t loss=1.2383 \t val_loss=1.1919 \t time=20.24s\n",
            "Epoch 27/100 \t loss=1.2253 \t val_loss=1.1711 \t time=20.29s\n",
            "Epoch 28/100 \t loss=1.2121 \t val_loss=1.1546 \t time=20.28s\n",
            "Epoch 29/100 \t loss=1.2040 \t val_loss=1.1359 \t time=20.45s\n",
            "Epoch 30/100 \t loss=1.1938 \t val_loss=1.1196 \t time=20.19s\n",
            "Epoch 31/100 \t loss=1.1746 \t val_loss=1.1067 \t time=20.08s\n",
            "Epoch 32/100 \t loss=1.1690 \t val_loss=1.0938 \t time=20.47s\n",
            "Epoch 33/100 \t loss=1.1657 \t val_loss=1.0883 \t time=20.24s\n",
            "Epoch 34/100 \t loss=1.1564 \t val_loss=1.0773 \t time=20.33s\n",
            "Epoch 35/100 \t loss=1.1523 \t val_loss=1.0743 \t time=20.64s\n",
            "Epoch 36/100 \t loss=1.1495 \t val_loss=1.0680 \t time=20.43s\n",
            "Epoch 37/100 \t loss=1.1463 \t val_loss=1.0622 \t time=20.46s\n",
            "Epoch 38/100 \t loss=1.1416 \t val_loss=1.0541 \t time=20.25s\n",
            "Epoch 39/100 \t loss=1.1379 \t val_loss=1.0547 \t time=20.21s\n",
            "Epoch 40/100 \t loss=1.1352 \t val_loss=1.0607 \t time=20.20s\n",
            "Epoch 41/100 \t loss=1.1338 \t val_loss=1.0441 \t time=20.39s\n",
            "Epoch 42/100 \t loss=1.1267 \t val_loss=1.0398 \t time=20.00s\n",
            "Epoch 43/100 \t loss=1.1251 \t val_loss=1.0532 \t time=19.97s\n",
            "Epoch 44/100 \t loss=1.1204 \t val_loss=1.0383 \t time=20.34s\n",
            "Epoch 45/100 \t loss=1.1143 \t val_loss=1.0311 \t time=20.01s\n",
            "Epoch 46/100 \t loss=1.1152 \t val_loss=1.0405 \t time=19.98s\n",
            "Epoch 47/100 \t loss=1.1123 \t val_loss=1.0287 \t time=20.23s\n",
            "Epoch 48/100 \t loss=1.1151 \t val_loss=1.0317 \t time=20.01s\n",
            "Epoch 49/100 \t loss=1.1062 \t val_loss=1.0356 \t time=19.75s\n",
            "Epoch 50/100 \t loss=1.1041 \t val_loss=1.0274 \t time=19.87s\n",
            "Epoch 51/100 \t loss=1.1007 \t val_loss=1.0244 \t time=19.95s\n",
            "Epoch 52/100 \t loss=1.1075 \t val_loss=1.0397 \t time=20.22s\n",
            "Epoch 53/100 \t loss=1.1022 \t val_loss=1.0220 \t time=20.25s\n",
            "Epoch 54/100 \t loss=1.1006 \t val_loss=1.0171 \t time=20.14s\n",
            "Epoch 55/100 \t loss=1.1060 \t val_loss=1.0390 \t time=20.01s\n",
            "Epoch 56/100 \t loss=1.1021 \t val_loss=1.0218 \t time=20.12s\n",
            "Epoch 57/100 \t loss=1.0933 \t val_loss=1.0134 \t time=20.02s\n",
            "Epoch 58/100 \t loss=1.0957 \t val_loss=1.0225 \t time=19.97s\n",
            "Epoch 59/100 \t loss=1.0991 \t val_loss=1.0173 \t time=20.26s\n",
            "Epoch 60/100 \t loss=1.0951 \t val_loss=1.0169 \t time=20.05s\n",
            "Epoch 61/100 \t loss=1.0910 \t val_loss=1.0105 \t time=19.88s\n",
            "Epoch 62/100 \t loss=1.0792 \t val_loss=1.0092 \t time=20.04s\n",
            "Epoch 63/100 \t loss=1.0946 \t val_loss=1.0208 \t time=19.76s\n",
            "Epoch 64/100 \t loss=1.0856 \t val_loss=0.9990 \t time=20.04s\n",
            "Epoch 65/100 \t loss=1.0837 \t val_loss=1.0178 \t time=19.96s\n",
            "Epoch 66/100 \t loss=1.0911 \t val_loss=1.0151 \t time=19.72s\n",
            "Epoch 67/100 \t loss=1.0841 \t val_loss=0.9956 \t time=19.65s\n",
            "Epoch 68/100 \t loss=1.0882 \t val_loss=1.0203 \t time=20.04s\n",
            "Epoch 69/100 \t loss=1.0842 \t val_loss=0.9957 \t time=20.07s\n",
            "Epoch 70/100 \t loss=1.0744 \t val_loss=0.9931 \t time=20.21s\n",
            "Epoch 71/100 \t loss=1.0727 \t val_loss=0.9930 \t time=20.48s\n",
            "Epoch 72/100 \t loss=1.0757 \t val_loss=1.0038 \t time=20.39s\n",
            "Epoch 73/100 \t loss=1.0781 \t val_loss=0.9918 \t time=20.29s\n",
            "Epoch 74/100 \t loss=1.0582 \t val_loss=0.9704 \t time=20.25s\n",
            "Epoch 75/100 \t loss=1.0686 \t val_loss=0.9947 \t time=20.46s\n",
            "Epoch 76/100 \t loss=1.0633 \t val_loss=0.9702 \t time=20.28s\n",
            "Epoch 77/100 \t loss=1.0517 \t val_loss=0.9713 \t time=20.47s\n",
            "Epoch 78/100 \t loss=1.0629 \t val_loss=0.9737 \t time=20.22s\n",
            "Epoch 79/100 \t loss=1.0532 \t val_loss=0.9645 \t time=20.31s\n",
            "Epoch 80/100 \t loss=1.0549 \t val_loss=0.9742 \t time=20.48s\n",
            "Epoch 81/100 \t loss=1.0553 \t val_loss=0.9549 \t time=20.44s\n",
            "Epoch 82/100 \t loss=1.0475 \t val_loss=0.9645 \t time=20.49s\n",
            "Epoch 83/100 \t loss=1.0302 \t val_loss=0.9352 \t time=20.37s\n",
            "Epoch 84/100 \t loss=1.0261 \t val_loss=0.9406 \t time=20.31s\n",
            "Epoch 85/100 \t loss=1.0194 \t val_loss=0.9196 \t time=20.29s\n",
            "Epoch 86/100 \t loss=1.0109 \t val_loss=0.8993 \t time=20.28s\n",
            "Epoch 87/100 \t loss=0.9989 \t val_loss=0.8975 \t time=20.20s\n",
            "Epoch 88/100 \t loss=0.9996 \t val_loss=0.8918 \t time=20.50s\n",
            "Epoch 89/100 \t loss=0.9887 \t val_loss=0.8760 \t time=20.24s\n",
            "Epoch 90/100 \t loss=0.9921 \t val_loss=0.8892 \t time=19.99s\n",
            "Epoch 91/100 \t loss=0.9806 \t val_loss=0.8664 \t time=20.08s\n",
            "Epoch 92/100 \t loss=0.9805 \t val_loss=0.8591 \t time=20.20s\n",
            "Epoch 93/100 \t loss=0.9699 \t val_loss=0.8665 \t time=20.15s\n",
            "Epoch 94/100 \t loss=0.9689 \t val_loss=0.8567 \t time=20.07s\n",
            "Epoch 95/100 \t loss=0.9680 \t val_loss=0.8502 \t time=20.08s\n",
            "Epoch 96/100 \t loss=0.9615 \t val_loss=0.8590 \t time=20.02s\n",
            "Epoch 97/100 \t loss=0.9634 \t val_loss=0.8537 \t time=19.91s\n",
            "Epoch 98/100 \t loss=0.9702 \t val_loss=0.8568 \t time=19.86s\n",
            "Epoch 99/100 \t loss=0.9684 \t val_loss=0.8582 \t time=19.86s\n",
            "Epoch 100/100 \t loss=0.9643 \t val_loss=0.8354 \t time=19.99s\n",
            "Fold 3\n",
            "Epoch 1/100 \t loss=1.3494 \t val_loss=1.3289 \t time=20.10s\n",
            "Epoch 2/100 \t loss=1.3253 \t val_loss=1.2967 \t time=19.67s\n",
            "Epoch 3/100 \t loss=1.2989 \t val_loss=1.2665 \t time=20.03s\n",
            "Epoch 4/100 \t loss=1.2838 \t val_loss=1.2502 \t time=19.93s\n",
            "Epoch 5/100 \t loss=1.2910 \t val_loss=1.2491 \t time=19.91s\n",
            "Epoch 6/100 \t loss=1.2920 \t val_loss=1.2530 \t time=20.05s\n",
            "Epoch 7/100 \t loss=1.2848 \t val_loss=1.2603 \t time=19.92s\n",
            "Epoch 8/100 \t loss=1.2856 \t val_loss=1.2651 \t time=20.05s\n",
            "Epoch 9/100 \t loss=1.2865 \t val_loss=1.2651 \t time=19.78s\n",
            "Epoch 10/100 \t loss=1.2873 \t val_loss=1.2611 \t time=20.00s\n",
            "Epoch 11/100 \t loss=1.2836 \t val_loss=1.2562 \t time=20.01s\n",
            "Epoch 12/100 \t loss=1.2791 \t val_loss=1.2525 \t time=20.15s\n",
            "Epoch 13/100 \t loss=1.2881 \t val_loss=1.2516 \t time=20.14s\n",
            "Epoch 14/100 \t loss=1.2839 \t val_loss=1.2538 \t time=19.99s\n",
            "Epoch 15/100 \t loss=1.2863 \t val_loss=1.2569 \t time=19.69s\n",
            "Epoch 16/100 \t loss=1.2809 \t val_loss=1.2575 \t time=20.05s\n",
            "Epoch 17/100 \t loss=1.2797 \t val_loss=1.2538 \t time=19.91s\n",
            "Epoch 18/100 \t loss=1.2816 \t val_loss=1.2488 \t time=20.12s\n",
            "Epoch 19/100 \t loss=1.2779 \t val_loss=1.2460 \t time=19.95s\n",
            "Epoch 20/100 \t loss=1.2754 \t val_loss=1.2441 \t time=19.94s\n",
            "Epoch 21/100 \t loss=1.2753 \t val_loss=1.2425 \t time=19.93s\n",
            "Epoch 22/100 \t loss=1.2677 \t val_loss=1.2372 \t time=19.79s\n",
            "Epoch 23/100 \t loss=1.2645 \t val_loss=1.2268 \t time=19.87s\n",
            "Epoch 24/100 \t loss=1.2576 \t val_loss=1.2211 \t time=20.02s\n",
            "Epoch 25/100 \t loss=1.2550 \t val_loss=1.2129 \t time=19.86s\n",
            "Epoch 26/100 \t loss=1.2388 \t val_loss=1.1946 \t time=19.72s\n",
            "Epoch 27/100 \t loss=1.2317 \t val_loss=1.1815 \t time=19.73s\n",
            "Epoch 28/100 \t loss=1.2212 \t val_loss=1.1615 \t time=19.98s\n",
            "Epoch 29/100 \t loss=1.2062 \t val_loss=1.1447 \t time=19.88s\n",
            "Epoch 30/100 \t loss=1.1920 \t val_loss=1.1257 \t time=19.75s\n",
            "Epoch 31/100 \t loss=1.1870 \t val_loss=1.1195 \t time=19.82s\n",
            "Epoch 32/100 \t loss=1.1739 \t val_loss=1.0999 \t time=19.64s\n",
            "Epoch 33/100 \t loss=1.1693 \t val_loss=1.1041 \t time=19.37s\n",
            "Epoch 34/100 \t loss=1.1650 \t val_loss=1.0844 \t time=19.37s\n",
            "Epoch 35/100 \t loss=1.1551 \t val_loss=1.0874 \t time=20.31s\n",
            "Epoch 36/100 \t loss=1.1544 \t val_loss=1.0794 \t time=19.56s\n",
            "Epoch 37/100 \t loss=1.1534 \t val_loss=1.0694 \t time=19.81s\n",
            "Epoch 38/100 \t loss=1.1481 \t val_loss=1.0755 \t time=19.97s\n",
            "Epoch 39/100 \t loss=1.1315 \t val_loss=1.0543 \t time=20.06s\n",
            "Epoch 40/100 \t loss=1.1454 \t val_loss=1.0813 \t time=20.04s\n",
            "Epoch 41/100 \t loss=1.1364 \t val_loss=1.0434 \t time=20.07s\n",
            "Epoch 42/100 \t loss=1.1317 \t val_loss=1.0605 \t time=20.20s\n",
            "Epoch 43/100 \t loss=1.1317 \t val_loss=1.0403 \t time=20.32s\n",
            "Epoch 44/100 \t loss=1.1272 \t val_loss=1.0490 \t time=20.12s\n",
            "Epoch 45/100 \t loss=1.1208 \t val_loss=1.0373 \t time=20.24s\n",
            "Epoch 46/100 \t loss=1.1187 \t val_loss=1.0438 \t time=20.13s\n",
            "Epoch 47/100 \t loss=1.1146 \t val_loss=1.0311 \t time=20.33s\n",
            "Epoch 48/100 \t loss=1.1185 \t val_loss=1.0408 \t time=20.33s\n",
            "Epoch 49/100 \t loss=1.1188 \t val_loss=1.0197 \t time=20.15s\n",
            "Epoch 50/100 \t loss=1.1070 \t val_loss=1.0226 \t time=20.04s\n",
            "Epoch 51/100 \t loss=1.0966 \t val_loss=1.0051 \t time=20.01s\n",
            "Epoch 52/100 \t loss=1.0983 \t val_loss=0.9906 \t time=20.08s\n",
            "Epoch 53/100 \t loss=1.0830 \t val_loss=0.9764 \t time=20.20s\n",
            "Epoch 54/100 \t loss=1.0746 \t val_loss=0.9526 \t time=20.18s\n",
            "Epoch 55/100 \t loss=1.0551 \t val_loss=0.9338 \t time=20.18s\n",
            "Epoch 56/100 \t loss=1.0244 \t val_loss=0.9043 \t time=20.00s\n",
            "Epoch 57/100 \t loss=1.0329 \t val_loss=0.8858 \t time=19.86s\n",
            "Epoch 58/100 \t loss=1.0052 \t val_loss=0.8761 \t time=19.93s\n",
            "Epoch 59/100 \t loss=0.9994 \t val_loss=0.8615 \t time=20.03s\n",
            "Epoch 60/100 \t loss=0.9869 \t val_loss=0.8298 \t time=20.15s\n",
            "Epoch 61/100 \t loss=0.9590 \t val_loss=0.7756 \t time=20.18s\n",
            "Epoch 62/100 \t loss=0.9249 \t val_loss=0.7394 \t time=20.14s\n",
            "Epoch 63/100 \t loss=0.8917 \t val_loss=0.7146 \t time=20.13s\n",
            "Epoch 64/100 \t loss=0.8851 \t val_loss=0.6948 \t time=20.12s\n",
            "Epoch 65/100 \t loss=0.8736 \t val_loss=0.7021 \t time=20.04s\n",
            "Epoch 66/100 \t loss=0.8706 \t val_loss=0.6847 \t time=20.31s\n",
            "Epoch 67/100 \t loss=0.8529 \t val_loss=0.6940 \t time=20.20s\n",
            "Epoch 68/100 \t loss=0.8581 \t val_loss=0.6829 \t time=20.09s\n",
            "Epoch 69/100 \t loss=0.8487 \t val_loss=0.6743 \t time=20.50s\n",
            "Epoch 70/100 \t loss=0.8371 \t val_loss=0.6673 \t time=20.39s\n",
            "Epoch 71/100 \t loss=0.8356 \t val_loss=0.6585 \t time=20.32s\n",
            "Epoch 72/100 \t loss=0.8331 \t val_loss=0.6543 \t time=20.32s\n",
            "Epoch 73/100 \t loss=0.8266 \t val_loss=0.6422 \t time=20.09s\n",
            "Epoch 74/100 \t loss=0.8208 \t val_loss=0.6388 \t time=19.98s\n",
            "Epoch 75/100 \t loss=0.8134 \t val_loss=0.6370 \t time=20.15s\n",
            "Epoch 76/100 \t loss=0.8014 \t val_loss=0.6096 \t time=20.25s\n",
            "Epoch 77/100 \t loss=0.8010 \t val_loss=0.6039 \t time=20.40s\n",
            "Epoch 78/100 \t loss=0.8069 \t val_loss=0.6036 \t time=20.69s\n",
            "Epoch 79/100 \t loss=0.7929 \t val_loss=0.6149 \t time=20.41s\n",
            "Epoch 80/100 \t loss=0.7896 \t val_loss=0.6039 \t time=20.35s\n",
            "Epoch 81/100 \t loss=0.7845 \t val_loss=0.5910 \t time=20.34s\n",
            "Epoch 82/100 \t loss=0.7771 \t val_loss=0.6020 \t time=20.42s\n",
            "Epoch 83/100 \t loss=0.7794 \t val_loss=0.5842 \t time=20.39s\n",
            "Epoch 84/100 \t loss=0.7763 \t val_loss=0.5920 \t time=20.63s\n",
            "Epoch 85/100 \t loss=0.7652 \t val_loss=0.5862 \t time=20.38s\n",
            "Epoch 86/100 \t loss=0.7639 \t val_loss=0.5831 \t time=20.25s\n",
            "Epoch 87/100 \t loss=0.7554 \t val_loss=0.5709 \t time=20.16s\n",
            "Epoch 88/100 \t loss=0.7661 \t val_loss=0.5772 \t time=20.31s\n",
            "Epoch 89/100 \t loss=0.7618 \t val_loss=0.5831 \t time=20.29s\n",
            "Epoch 90/100 \t loss=0.7521 \t val_loss=0.5571 \t time=20.35s\n",
            "Epoch 91/100 \t loss=0.7587 \t val_loss=0.5628 \t time=20.20s\n",
            "Epoch 92/100 \t loss=0.7517 \t val_loss=0.5651 \t time=20.11s\n",
            "Epoch 93/100 \t loss=0.7496 \t val_loss=0.5616 \t time=20.15s\n",
            "Epoch 94/100 \t loss=0.7390 \t val_loss=0.5571 \t time=20.25s\n",
            "Epoch 95/100 \t loss=0.7451 \t val_loss=0.5522 \t time=20.38s\n",
            "Epoch 96/100 \t loss=0.7467 \t val_loss=0.5580 \t time=20.65s\n",
            "Epoch 97/100 \t loss=0.7385 \t val_loss=0.5525 \t time=20.33s\n",
            "Epoch 98/100 \t loss=0.7360 \t val_loss=0.5553 \t time=20.22s\n",
            "Epoch 99/100 \t loss=0.7264 \t val_loss=0.5480 \t time=20.31s\n",
            "Epoch 100/100 \t loss=0.7283 \t val_loss=0.5474 \t time=20.07s\n",
            "Fold 4\n",
            "Epoch 1/100 \t loss=1.3506 \t val_loss=1.3287 \t time=20.86s\n",
            "Epoch 2/100 \t loss=1.3230 \t val_loss=1.2962 \t time=20.33s\n",
            "Epoch 3/100 \t loss=1.2987 \t val_loss=1.2659 \t time=20.26s\n",
            "Epoch 4/100 \t loss=1.2881 \t val_loss=1.2498 \t time=20.26s\n",
            "Epoch 5/100 \t loss=1.2896 \t val_loss=1.2487 \t time=19.92s\n",
            "Epoch 6/100 \t loss=1.2902 \t val_loss=1.2524 \t time=20.31s\n",
            "Epoch 7/100 \t loss=1.2892 \t val_loss=1.2599 \t time=19.89s\n",
            "Epoch 8/100 \t loss=1.2781 \t val_loss=1.2649 \t time=20.12s\n",
            "Epoch 9/100 \t loss=1.2845 \t val_loss=1.2636 \t time=19.90s\n",
            "Epoch 10/100 \t loss=1.2833 \t val_loss=1.2587 \t time=19.74s\n",
            "Epoch 11/100 \t loss=1.2884 \t val_loss=1.2544 \t time=19.82s\n",
            "Epoch 12/100 \t loss=1.2857 \t val_loss=1.2526 \t time=19.91s\n",
            "Epoch 13/100 \t loss=1.2874 \t val_loss=1.2536 \t time=19.78s\n",
            "Epoch 14/100 \t loss=1.2846 \t val_loss=1.2558 \t time=19.97s\n",
            "Epoch 15/100 \t loss=1.2820 \t val_loss=1.2569 \t time=19.53s\n",
            "Epoch 16/100 \t loss=1.2774 \t val_loss=1.2541 \t time=19.53s\n",
            "Epoch 17/100 \t loss=1.2782 \t val_loss=1.2490 \t time=19.62s\n",
            "Epoch 18/100 \t loss=1.2813 \t val_loss=1.2463 \t time=19.69s\n",
            "Epoch 19/100 \t loss=1.2820 \t val_loss=1.2475 \t time=19.79s\n",
            "Epoch 20/100 \t loss=1.2713 \t val_loss=1.2458 \t time=19.76s\n",
            "Epoch 21/100 \t loss=1.2670 \t val_loss=1.2352 \t time=19.68s\n",
            "Epoch 22/100 \t loss=1.2669 \t val_loss=1.2290 \t time=19.56s\n",
            "Epoch 23/100 \t loss=1.2622 \t val_loss=1.2270 \t time=19.41s\n",
            "Epoch 24/100 \t loss=1.2549 \t val_loss=1.2134 \t time=19.57s\n",
            "Epoch 25/100 \t loss=1.2406 \t val_loss=1.1942 \t time=19.43s\n",
            "Epoch 26/100 \t loss=1.2288 \t val_loss=1.1834 \t time=19.92s\n",
            "Epoch 27/100 \t loss=1.2209 \t val_loss=1.1622 \t time=19.83s\n",
            "Epoch 28/100 \t loss=1.2124 \t val_loss=1.1472 \t time=19.62s\n",
            "Epoch 29/100 \t loss=1.1996 \t val_loss=1.1284 \t time=19.70s\n",
            "Epoch 30/100 \t loss=1.1891 \t val_loss=1.1141 \t time=19.54s\n",
            "Epoch 31/100 \t loss=1.1785 \t val_loss=1.1076 \t time=19.53s\n",
            "Epoch 32/100 \t loss=1.1652 \t val_loss=1.0927 \t time=19.82s\n",
            "Epoch 33/100 \t loss=1.1634 \t val_loss=1.0876 \t time=19.71s\n",
            "Epoch 34/100 \t loss=1.1624 \t val_loss=1.0783 \t time=19.36s\n",
            "Epoch 35/100 \t loss=1.1440 \t val_loss=1.0713 \t time=19.52s\n",
            "Epoch 36/100 \t loss=1.1424 \t val_loss=1.0608 \t time=19.62s\n",
            "Epoch 37/100 \t loss=1.1380 \t val_loss=1.0609 \t time=19.72s\n",
            "Epoch 38/100 \t loss=1.1332 \t val_loss=1.0511 \t time=19.64s\n",
            "Epoch 39/100 \t loss=1.1272 \t val_loss=1.0374 \t time=19.96s\n",
            "Epoch 40/100 \t loss=1.1208 \t val_loss=1.0436 \t time=20.71s\n",
            "Epoch 41/100 \t loss=1.1080 \t val_loss=0.9982 \t time=20.28s\n",
            "Epoch 42/100 \t loss=1.0895 \t val_loss=0.9748 \t time=19.75s\n",
            "Epoch 43/100 \t loss=1.0645 \t val_loss=0.9346 \t time=19.72s\n",
            "Epoch 44/100 \t loss=1.0397 \t val_loss=0.9233 \t time=19.97s\n",
            "Epoch 45/100 \t loss=1.0263 \t val_loss=0.8841 \t time=20.14s\n",
            "Epoch 46/100 \t loss=1.0126 \t val_loss=0.8899 \t time=20.01s\n",
            "Epoch 47/100 \t loss=1.0099 \t val_loss=0.8707 \t time=19.72s\n",
            "Epoch 48/100 \t loss=0.9880 \t val_loss=0.8694 \t time=19.83s\n",
            "Epoch 49/100 \t loss=0.9935 \t val_loss=0.8484 \t time=19.96s\n",
            "Epoch 50/100 \t loss=0.9821 \t val_loss=0.8530 \t time=19.99s\n",
            "Epoch 51/100 \t loss=0.9653 \t val_loss=0.8244 \t time=20.07s\n",
            "Epoch 52/100 \t loss=0.9627 \t val_loss=0.8366 \t time=19.71s\n",
            "Epoch 53/100 \t loss=0.9650 \t val_loss=0.8282 \t time=19.95s\n",
            "Epoch 54/100 \t loss=0.9588 \t val_loss=0.8222 \t time=19.86s\n",
            "Epoch 55/100 \t loss=0.9558 \t val_loss=0.8141 \t time=19.99s\n",
            "Epoch 56/100 \t loss=0.9473 \t val_loss=0.8080 \t time=20.12s\n",
            "Epoch 57/100 \t loss=0.9459 \t val_loss=0.8024 \t time=20.05s\n",
            "Epoch 58/100 \t loss=0.9364 \t val_loss=0.8039 \t time=19.99s\n",
            "Epoch 59/100 \t loss=0.9395 \t val_loss=0.7957 \t time=19.74s\n",
            "Epoch 60/100 \t loss=0.9284 \t val_loss=0.7972 \t time=19.82s\n",
            "Epoch 61/100 \t loss=0.9310 \t val_loss=0.7828 \t time=19.68s\n",
            "Epoch 62/100 \t loss=0.9233 \t val_loss=0.7904 \t time=19.63s\n",
            "Epoch 63/100 \t loss=0.9308 \t val_loss=0.7809 \t time=19.36s\n",
            "Epoch 64/100 \t loss=0.9205 \t val_loss=0.7880 \t time=19.38s\n",
            "Epoch 65/100 \t loss=0.9217 \t val_loss=0.7747 \t time=19.39s\n",
            "Epoch 66/100 \t loss=0.9217 \t val_loss=0.7809 \t time=19.55s\n",
            "Epoch 67/100 \t loss=0.9151 \t val_loss=0.7670 \t time=19.66s\n",
            "Epoch 68/100 \t loss=0.9104 \t val_loss=0.7669 \t time=19.69s\n",
            "Epoch 69/100 \t loss=0.9055 \t val_loss=0.7671 \t time=19.73s\n",
            "Epoch 70/100 \t loss=0.9071 \t val_loss=0.7589 \t time=19.55s\n",
            "Epoch 71/100 \t loss=0.9086 \t val_loss=0.7700 \t time=20.08s\n",
            "Epoch 72/100 \t loss=0.9037 \t val_loss=0.7466 \t time=19.88s\n",
            "Epoch 73/100 \t loss=0.8955 \t val_loss=0.7530 \t time=20.67s\n",
            "Epoch 74/100 \t loss=0.8904 \t val_loss=0.7465 \t time=20.40s\n",
            "Epoch 75/100 \t loss=0.8874 \t val_loss=0.7330 \t time=19.88s\n",
            "Epoch 76/100 \t loss=0.8947 \t val_loss=0.7479 \t time=20.02s\n",
            "Epoch 77/100 \t loss=0.8851 \t val_loss=0.7229 \t time=19.99s\n",
            "Epoch 78/100 \t loss=0.8891 \t val_loss=0.7400 \t time=19.93s\n",
            "Epoch 79/100 \t loss=0.8933 \t val_loss=0.7278 \t time=20.17s\n",
            "Epoch 80/100 \t loss=0.8828 \t val_loss=0.7213 \t time=20.39s\n",
            "Epoch 81/100 \t loss=0.8741 \t val_loss=0.7402 \t time=20.31s\n",
            "Epoch 82/100 \t loss=0.8799 \t val_loss=0.7247 \t time=20.41s\n",
            "Epoch 83/100 \t loss=0.8648 \t val_loss=0.7153 \t time=20.25s\n",
            "Epoch 84/100 \t loss=0.8783 \t val_loss=0.7218 \t time=20.24s\n",
            "Epoch 85/100 \t loss=0.8731 \t val_loss=0.7358 \t time=20.36s\n",
            "Epoch 86/100 \t loss=0.8699 \t val_loss=0.7081 \t time=20.45s\n",
            "Epoch 87/100 \t loss=0.8616 \t val_loss=0.7159 \t time=20.37s\n",
            "Epoch 88/100 \t loss=0.8445 \t val_loss=0.6761 \t time=19.90s\n",
            "Epoch 89/100 \t loss=0.7993 \t val_loss=0.6074 \t time=19.93s\n",
            "Epoch 90/100 \t loss=0.7882 \t val_loss=0.5857 \t time=19.85s\n",
            "Epoch 91/100 \t loss=0.7708 \t val_loss=0.6019 \t time=20.00s\n",
            "Epoch 92/100 \t loss=0.7826 \t val_loss=0.6097 \t time=19.96s\n",
            "Epoch 93/100 \t loss=0.7748 \t val_loss=0.5712 \t time=19.76s\n",
            "Epoch 94/100 \t loss=0.7642 \t val_loss=0.5861 \t time=19.79s\n",
            "Epoch 95/100 \t loss=0.7649 \t val_loss=0.5758 \t time=19.66s\n",
            "Epoch 96/100 \t loss=0.7630 \t val_loss=0.5661 \t time=19.66s\n",
            "Epoch 97/100 \t loss=0.7644 \t val_loss=0.5598 \t time=19.55s\n",
            "Epoch 98/100 \t loss=0.7494 \t val_loss=0.5713 \t time=19.72s\n",
            "Epoch 99/100 \t loss=0.7448 \t val_loss=0.5525 \t time=19.60s\n",
            "Epoch 100/100 \t loss=0.7330 \t val_loss=0.5543 \t time=19.70s\n",
            "Fold 5\n",
            "Epoch 1/100 \t loss=1.3498 \t val_loss=1.3288 \t time=19.97s\n",
            "Epoch 2/100 \t loss=1.3229 \t val_loss=1.2966 \t time=19.80s\n",
            "Epoch 3/100 \t loss=1.3013 \t val_loss=1.2668 \t time=19.81s\n",
            "Epoch 4/100 \t loss=1.2856 \t val_loss=1.2509 \t time=19.67s\n",
            "Epoch 5/100 \t loss=1.2918 \t val_loss=1.2498 \t time=19.67s\n",
            "Epoch 6/100 \t loss=1.2846 \t val_loss=1.2534 \t time=19.60s\n",
            "Epoch 7/100 \t loss=1.2845 \t val_loss=1.2599 \t time=19.69s\n",
            "Epoch 8/100 \t loss=1.2856 \t val_loss=1.2650 \t time=19.58s\n"
          ],
          "name": "stdout"
        }
      ]
    },
    {
      "cell_type": "code",
      "metadata": {
        "id": "NM6RLU0JS0iN",
        "colab_type": "code",
        "colab": {
          "base_uri": "https://localhost:8080/",
          "height": 34
        },
        "outputId": "1597d630-b3f3-4ae1-d49c-881b1a48b710"
      },
      "source": [
        "target"
      ],
      "execution_count": 91,
      "outputs": [
        {
          "output_type": "execute_result",
          "data": {
            "text/plain": [
              "tensor([0, 1, 3])"
            ]
          },
          "metadata": {
            "tags": []
          },
          "execution_count": 91
        }
      ]
    },
    {
      "cell_type": "code",
      "metadata": {
        "id": "93IACYv5Syl9",
        "colab_type": "code",
        "colab": {
          "base_uri": "https://localhost:8080/",
          "height": 68
        },
        "outputId": "4b8e2707-d1cc-49c4-ec7a-76be427513c4"
      },
      "source": [
        "input"
      ],
      "execution_count": 89,
      "outputs": [
        {
          "output_type": "execute_result",
          "data": {
            "text/plain": [
              "tensor([[ 0.3532,  1.2717,  1.1433, -0.2254,  0.8920],\n",
              "        [ 0.1332,  0.7552, -0.4545,  0.3219,  1.3618],\n",
              "        [-1.5671,  0.8154,  1.4264, -0.1327,  0.3361]], requires_grad=True)"
            ]
          },
          "metadata": {
            "tags": []
          },
          "execution_count": 89
        }
      ]
    },
    {
      "cell_type": "markdown",
      "metadata": {
        "id": "IT9wN54Kzd8d",
        "colab_type": "text"
      },
      "source": [
        ""
      ]
    }
  ]
}