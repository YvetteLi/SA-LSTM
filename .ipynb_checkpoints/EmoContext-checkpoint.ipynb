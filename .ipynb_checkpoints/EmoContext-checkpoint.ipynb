{
 "cells": [
  {
   "cell_type": "markdown",
   "metadata": {},
   "source": [
    "# STAT 441 Project Proposal - Self Attention LSTM Implementation"
   ]
  },
  {
   "cell_type": "markdown",
   "metadata": {},
   "source": [
    "# Problem Statement"
   ]
  },
  {
   "cell_type": "markdown",
   "metadata": {},
   "source": [
    "This project aims to implement this technique described in this paper to classify happy, sad, angry and other from a conversational dataset."
   ]
  },
  {
   "cell_type": "markdown",
   "metadata": {},
   "source": [
    "# Data Set Format"
   ]
  },
  {
   "cell_type": "markdown",
   "metadata": {},
   "source": [
    "The training dataset contains 5 columns with unique ID, turn 1, turn 2, turn 3 and label, where turn 2 is the reponse to turn 1 and turn 3 is the response to turn 2. The dev set and the test set contain the first four columns, but the \"label\" is absent. The proportion of each happy, sad and angry takes 18.2%, 14.1% and 18.1% of the train dataset, and the rest is \"others\". However, the proportion of each category takes 5% in dev set.\n",
    "\n",
    "Data provided by Microsoft for SemEval2019 Task 3 - EmoContext."
   ]
  },
  {
   "cell_type": "code",
   "execution_count": 1,
   "metadata": {},
   "outputs": [],
   "source": [
    "import pandas as pd"
   ]
  },
  {
   "cell_type": "code",
   "execution_count": 2,
   "metadata": {},
   "outputs": [
    {
     "name": "stdout",
     "output_type": "stream",
     "text": [
      "Email Confirmation.pdf EmoContext.ipynb       \u001b[34mdata\u001b[m\u001b[m\r\n"
     ]
    }
   ],
   "source": [
    "!ls"
   ]
  },
  {
   "cell_type": "code",
   "execution_count": 33,
   "metadata": {},
   "outputs": [],
   "source": [
    "df = pd.read_csv(\"train.txt\", sep=\"\\t\")\n",
    "df_dev = pd.read_csv(\"dev.txt\", sep=\"\\t\")"
   ]
  },
  {
   "cell_type": "code",
   "execution_count": 34,
   "metadata": {},
   "outputs": [
    {
     "data": {
      "text/html": [
       "<div>\n",
       "<style scoped>\n",
       "    .dataframe tbody tr th:only-of-type {\n",
       "        vertical-align: middle;\n",
       "    }\n",
       "\n",
       "    .dataframe tbody tr th {\n",
       "        vertical-align: top;\n",
       "    }\n",
       "\n",
       "    .dataframe thead th {\n",
       "        text-align: right;\n",
       "    }\n",
       "</style>\n",
       "<table border=\"1\" class=\"dataframe\">\n",
       "  <thead>\n",
       "    <tr style=\"text-align: right;\">\n",
       "      <th></th>\n",
       "      <th>id</th>\n",
       "      <th>turn1</th>\n",
       "      <th>turn2</th>\n",
       "      <th>turn3</th>\n",
       "      <th>label</th>\n",
       "    </tr>\n",
       "  </thead>\n",
       "  <tbody>\n",
       "    <tr>\n",
       "      <td>0</td>\n",
       "      <td>0</td>\n",
       "      <td>Don't worry  I'm girl</td>\n",
       "      <td>hmm how do I know if you are</td>\n",
       "      <td>What's ur name?</td>\n",
       "      <td>others</td>\n",
       "    </tr>\n",
       "    <tr>\n",
       "      <td>1</td>\n",
       "      <td>1</td>\n",
       "      <td>When did I?</td>\n",
       "      <td>saw many times i think -_-</td>\n",
       "      <td>No. I never saw you</td>\n",
       "      <td>angry</td>\n",
       "    </tr>\n",
       "    <tr>\n",
       "      <td>2</td>\n",
       "      <td>2</td>\n",
       "      <td>By</td>\n",
       "      <td>by Google Chrome</td>\n",
       "      <td>Where you live</td>\n",
       "      <td>others</td>\n",
       "    </tr>\n",
       "    <tr>\n",
       "      <td>3</td>\n",
       "      <td>3</td>\n",
       "      <td>U r ridiculous</td>\n",
       "      <td>I might be ridiculous but I am telling the truth.</td>\n",
       "      <td>U little disgusting whore</td>\n",
       "      <td>angry</td>\n",
       "    </tr>\n",
       "    <tr>\n",
       "      <td>4</td>\n",
       "      <td>4</td>\n",
       "      <td>Just for time pass</td>\n",
       "      <td>wt do u do 4 a living then</td>\n",
       "      <td>Maybe</td>\n",
       "      <td>others</td>\n",
       "    </tr>\n",
       "    <tr>\n",
       "      <td>...</td>\n",
       "      <td>...</td>\n",
       "      <td>...</td>\n",
       "      <td>...</td>\n",
       "      <td>...</td>\n",
       "      <td>...</td>\n",
       "    </tr>\n",
       "    <tr>\n",
       "      <td>30155</td>\n",
       "      <td>30155</td>\n",
       "      <td>I don't work</td>\n",
       "      <td>I could take your shift</td>\n",
       "      <td>I am a student</td>\n",
       "      <td>others</td>\n",
       "    </tr>\n",
       "    <tr>\n",
       "      <td>30156</td>\n",
       "      <td>30156</td>\n",
       "      <td>I'm not getting you 😭😭😭</td>\n",
       "      <td>Why are you crying??</td>\n",
       "      <td>Because you are not making any sense</td>\n",
       "      <td>sad</td>\n",
       "    </tr>\n",
       "    <tr>\n",
       "      <td>30157</td>\n",
       "      <td>30157</td>\n",
       "      <td>Haha</td>\n",
       "      <td>no, seriously. What is up with that o-o</td>\n",
       "      <td>Had your breakfast?</td>\n",
       "      <td>others</td>\n",
       "    </tr>\n",
       "    <tr>\n",
       "      <td>30158</td>\n",
       "      <td>30158</td>\n",
       "      <td>Do you sing?</td>\n",
       "      <td>yea a lil</td>\n",
       "      <td>Nice</td>\n",
       "      <td>others</td>\n",
       "    </tr>\n",
       "    <tr>\n",
       "      <td>30159</td>\n",
       "      <td>30159</td>\n",
       "      <td>Me to</td>\n",
       "      <td>People be driving me crazy</td>\n",
       "      <td>Come on sleep with me</td>\n",
       "      <td>others</td>\n",
       "    </tr>\n",
       "  </tbody>\n",
       "</table>\n",
       "<p>30160 rows × 5 columns</p>\n",
       "</div>"
      ],
      "text/plain": [
       "          id                    turn1  \\\n",
       "0          0    Don't worry  I'm girl   \n",
       "1          1              When did I?   \n",
       "2          2                       By   \n",
       "3          3           U r ridiculous   \n",
       "4          4       Just for time pass   \n",
       "...      ...                      ...   \n",
       "30155  30155             I don't work   \n",
       "30156  30156  I'm not getting you 😭😭😭   \n",
       "30157  30157                     Haha   \n",
       "30158  30158             Do you sing?   \n",
       "30159  30159                    Me to   \n",
       "\n",
       "                                                   turn2  \\\n",
       "0                           hmm how do I know if you are   \n",
       "1                             saw many times i think -_-   \n",
       "2                                       by Google Chrome   \n",
       "3      I might be ridiculous but I am telling the truth.   \n",
       "4                             wt do u do 4 a living then   \n",
       "...                                                  ...   \n",
       "30155                            I could take your shift   \n",
       "30156                               Why are you crying??   \n",
       "30157            no, seriously. What is up with that o-o   \n",
       "30158                                          yea a lil   \n",
       "30159                         People be driving me crazy   \n",
       "\n",
       "                                      turn3   label  \n",
       "0                           What's ur name?  others  \n",
       "1                       No. I never saw you   angry  \n",
       "2                            Where you live  others  \n",
       "3                 U little disgusting whore   angry  \n",
       "4                                     Maybe  others  \n",
       "...                                     ...     ...  \n",
       "30155                        I am a student  others  \n",
       "30156  Because you are not making any sense     sad  \n",
       "30157                   Had your breakfast?  others  \n",
       "30158                                  Nice  others  \n",
       "30159                 Come on sleep with me  others  \n",
       "\n",
       "[30160 rows x 5 columns]"
      ]
     },
     "execution_count": 34,
     "metadata": {},
     "output_type": "execute_result"
    }
   ],
   "source": [
    "df"
   ]
  },
  {
   "cell_type": "markdown",
   "metadata": {},
   "source": [
    "It's not hard to see that the data contains emoji, text faces, slangs and typos."
   ]
  },
  {
   "cell_type": "markdown",
   "metadata": {},
   "source": [
    "The proportion of others takes about 50% of the data, and other emotions are distributed roughly even."
   ]
  },
  {
   "cell_type": "code",
   "execution_count": 35,
   "metadata": {
    "scrolled": false
   },
   "outputs": [
    {
     "data": {
      "text/html": [
       "<div>\n",
       "<style scoped>\n",
       "    .dataframe tbody tr th:only-of-type {\n",
       "        vertical-align: middle;\n",
       "    }\n",
       "\n",
       "    .dataframe tbody tr th {\n",
       "        vertical-align: top;\n",
       "    }\n",
       "\n",
       "    .dataframe thead th {\n",
       "        text-align: right;\n",
       "    }\n",
       "</style>\n",
       "<table border=\"1\" class=\"dataframe\">\n",
       "  <thead>\n",
       "    <tr style=\"text-align: right;\">\n",
       "      <th></th>\n",
       "      <th>id</th>\n",
       "    </tr>\n",
       "    <tr>\n",
       "      <th>label</th>\n",
       "      <th></th>\n",
       "    </tr>\n",
       "  </thead>\n",
       "  <tbody>\n",
       "    <tr>\n",
       "      <td>angry</td>\n",
       "      <td>0.182560</td>\n",
       "    </tr>\n",
       "    <tr>\n",
       "      <td>happy</td>\n",
       "      <td>0.140683</td>\n",
       "    </tr>\n",
       "    <tr>\n",
       "      <td>others</td>\n",
       "      <td>0.495623</td>\n",
       "    </tr>\n",
       "    <tr>\n",
       "      <td>sad</td>\n",
       "      <td>0.181134</td>\n",
       "    </tr>\n",
       "  </tbody>\n",
       "</table>\n",
       "</div>"
      ],
      "text/plain": [
       "              id\n",
       "label           \n",
       "angry   0.182560\n",
       "happy   0.140683\n",
       "others  0.495623\n",
       "sad     0.181134"
      ]
     },
     "execution_count": 35,
     "metadata": {},
     "output_type": "execute_result"
    }
   ],
   "source": [
    "df.groupby(\"label\").count()[[\"id\"]]/len(df)"
   ]
  },
  {
   "cell_type": "code",
   "execution_count": 36,
   "metadata": {},
   "outputs": [
    {
     "data": {
      "text/html": [
       "<div>\n",
       "<style scoped>\n",
       "    .dataframe tbody tr th:only-of-type {\n",
       "        vertical-align: middle;\n",
       "    }\n",
       "\n",
       "    .dataframe tbody tr th {\n",
       "        vertical-align: top;\n",
       "    }\n",
       "\n",
       "    .dataframe thead th {\n",
       "        text-align: right;\n",
       "    }\n",
       "</style>\n",
       "<table border=\"1\" class=\"dataframe\">\n",
       "  <thead>\n",
       "    <tr style=\"text-align: right;\">\n",
       "      <th></th>\n",
       "      <th>id</th>\n",
       "    </tr>\n",
       "    <tr>\n",
       "      <th>label</th>\n",
       "      <th></th>\n",
       "    </tr>\n",
       "  </thead>\n",
       "  <tbody>\n",
       "    <tr>\n",
       "      <td>angry</td>\n",
       "      <td>0.054446</td>\n",
       "    </tr>\n",
       "    <tr>\n",
       "      <td>happy</td>\n",
       "      <td>0.051543</td>\n",
       "    </tr>\n",
       "    <tr>\n",
       "      <td>others</td>\n",
       "      <td>0.848639</td>\n",
       "    </tr>\n",
       "    <tr>\n",
       "      <td>sad</td>\n",
       "      <td>0.045372</td>\n",
       "    </tr>\n",
       "  </tbody>\n",
       "</table>\n",
       "</div>"
      ],
      "text/plain": [
       "              id\n",
       "label           \n",
       "angry   0.054446\n",
       "happy   0.051543\n",
       "others  0.848639\n",
       "sad     0.045372"
      ]
     },
     "execution_count": 36,
     "metadata": {},
     "output_type": "execute_result"
    }
   ],
   "source": [
    "df_dev.groupby(\"label\").count()[[\"id\"]]/len(df_dev)"
   ]
  },
  {
   "cell_type": "markdown",
   "metadata": {},
   "source": [
    "# Plan of Attack"
   ]
  },
  {
   "cell_type": "markdown",
   "metadata": {},
   "source": [
    "## Stage 1 - Data Cleaning\n",
    "The mis-spelled words and abbreviations will be handled through regular expression. The regex script from [this](https://github.com/iamgroot42/nelec/blob/master/regex.py) will be helpful to achieve this task. The words will be processed with pretrained embeddings from [GloVe](https://nlp.stanford.edu/projects/glove/), which is a pretrained word embeddings that reveals the semantic similarity between words. [ELMo](https://arxiv.org/abs/1802.05365), a pretrained embedding that adapts to the different meanings of words under different context, will also be used to enhance the emotion classification accuracy. The emoji and text faces will be handled by [DeepMoji](https://www.aclweb.org/anthology/D17-1169/)\n",
    "\n",
    "During this stage, the word will also be transformed into a word matrix. Each word will have a vector that represents the feature of this word. Similar words will be close together in the high dimensional space.\n"
   ]
  },
  {
   "cell_type": "markdown",
   "metadata": {},
   "source": [
    "## Stage 2 - Model Training"
   ]
  },
  {
   "cell_type": "markdown",
   "metadata": {},
   "source": [
    "Due to the restrictions on computin power, I decided to implement one of their baseline model - \n",
    "[SA-LSTM](https://arxiv.org/pdf/1904.00132.pdf).\n",
    "\n",
    "The model first encode the all the words appreared in the conversation into a vector $x$, and the GloVe will be applied on to this vector as $G(x)$. The concatenated conversation will be directly passed to the ElMo model as $E(x)$. Then, a two-layer bi-directional LSTM encoder will be used ona concatenation of $G(x)$ and $E(x)$ as a hidden state, $h_t^e = LSTM^e([G(x_t); E_t], h_{t-1}^e)$. Then, a self-attention model is added to the model $h_x^ {sa} = SA(h_x^e)$. In the end, a fully connected layer is appended to the projected emotion space, $output_x^{SL} = output(h_x^{sa})$, then an $argmax$ function is applied to find out which emotion this model predicts"
   ]
  },
  {
   "cell_type": "markdown",
   "metadata": {},
   "source": [
    "## Stage 3 - Evaluation and Conclusion"
   ]
  },
  {
   "cell_type": "markdown",
   "metadata": {},
   "source": [
    "The result of the model will be evaluated as follows.\n",
    "\n",
    "for Classification\n",
    "1. Precision\n",
    "2. Recall\n",
    "3. F1 Score\n",
    "\n",
    "I will constructed a [multi-class confusion matrix](https://www.youtube.com/watch?v=FAr2GmWNbT0) which looks like\n",
    "\n",
    "\n",
    "|         | Anger | Sad     |Happy | ... |\n",
    "|---------|-------|---------|-----|-----|\n",
    "| Anger   | Tpa   | Eas     | Eha | ... |\n",
    "| Sad     | Eas   | Tps     | Ehs | ... |\n",
    "| Happy   | Eah   | Esh     | Tph | ... |\n",
    "| ...     | ...   | ...     | ... | ... |\n",
    "\n",
    "**Example Precision**\n",
    "\n",
    "The precision of Anger is Pa = Tpa/(Eas+Eja+...)\n",
    "\n",
    "**Example Recall**\n",
    "\n",
    "The recall of Anger is Ra = Tpa/(Tpa+Eas+Eja+...)\n",
    "\n",
    "**Example F1**\n",
    "\n",
    "The F1 score of Anger is 2\\*PaRa/(Pa+Ra)\n",
    "\n"
   ]
  }
 ],
 "metadata": {
  "kernelspec": {
   "display_name": "Python 3",
   "language": "python",
   "name": "python3"
  },
  "language_info": {
   "codemirror_mode": {
    "name": "ipython",
    "version": 3
   },
   "file_extension": ".py",
   "mimetype": "text/x-python",
   "name": "python",
   "nbconvert_exporter": "python",
   "pygments_lexer": "ipython3",
   "version": "3.7.4"
  }
 },
 "nbformat": 4,
 "nbformat_minor": 2
}
